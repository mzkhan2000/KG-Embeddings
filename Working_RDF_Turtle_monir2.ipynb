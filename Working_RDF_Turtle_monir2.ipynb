{
  "nbformat": 4,
  "nbformat_minor": 0,
  "metadata": {
    "colab": {
      "name": "Working-RDF-Turtle-monir.ipynb",
      "provenance": [],
      "collapsed_sections": [],
      "authorship_tag": "ABX9TyO+6q32O4317qKpHXIDKtMA",
      "include_colab_link": true
    },
    "kernelspec": {
      "name": "python3",
      "display_name": "Python 3"
    },
    "language_info": {
      "name": "python"
    }
  },
  "cells": [
    {
      "cell_type": "markdown",
      "metadata": {
        "id": "view-in-github",
        "colab_type": "text"
      },
      "source": [
        "<a href=\"https://colab.research.google.com/github/mzkhan2000/KG-Embeddings/blob/main/Working_RDF_Turtle_monir2.ipynb\" target=\"_parent\"><img src=\"https://colab.research.google.com/assets/colab-badge.svg\" alt=\"Open In Colab\"/></a>"
      ]
    },
    {
      "cell_type": "code",
      "metadata": {
        "colab": {
          "base_uri": "https://localhost:8080/"
        },
        "id": "DIo0WqXgH2bh",
        "outputId": "55bd4572-838d-4a97-f75a-92cc5a1ad430"
      },
      "source": [
        "pip install rdflib"
      ],
      "execution_count": 1,
      "outputs": [
        {
          "output_type": "stream",
          "text": [
            "Collecting rdflib\n",
            "  Downloading rdflib-6.0.0-py3-none-any.whl (376 kB)\n",
            "\u001b[K     |████████████████████████████████| 376 kB 6.8 MB/s \n",
            "\u001b[?25hCollecting isodate\n",
            "  Downloading isodate-0.6.0-py2.py3-none-any.whl (45 kB)\n",
            "\u001b[K     |████████████████████████████████| 45 kB 2.4 MB/s \n",
            "\u001b[?25hRequirement already satisfied: pyparsing in /usr/local/lib/python3.7/dist-packages (from rdflib) (2.4.7)\n",
            "Requirement already satisfied: setuptools in /usr/local/lib/python3.7/dist-packages (from rdflib) (57.2.0)\n",
            "Requirement already satisfied: six in /usr/local/lib/python3.7/dist-packages (from isodate->rdflib) (1.15.0)\n",
            "Installing collected packages: isodate, rdflib\n",
            "Successfully installed isodate-0.6.0 rdflib-6.0.0\n"
          ],
          "name": "stdout"
        }
      ]
    },
    {
      "cell_type": "code",
      "metadata": {
        "id": "Vr4nz6yFH-gS"
      },
      "source": [
        "import rdflib"
      ],
      "execution_count": 2,
      "outputs": []
    },
    {
      "cell_type": "code",
      "metadata": {
        "id": "_jufloG5vGSL"
      },
      "source": [
        "import collections\n",
        "from collections import Counter"
      ],
      "execution_count": 35,
      "outputs": []
    },
    {
      "cell_type": "code",
      "metadata": {
        "colab": {
          "base_uri": "https://localhost:8080/"
        },
        "id": "SMfy5XKLIAXp",
        "outputId": "a335853f-65b9-4f67-8385-96ebda8c9c6d"
      },
      "source": [
        "from google.colab import drive\n",
        "drive.mount('/content/drive')"
      ],
      "execution_count": 3,
      "outputs": [
        {
          "output_type": "stream",
          "text": [
            "Mounted at /content/drive\n"
          ],
          "name": "stdout"
        }
      ]
    },
    {
      "cell_type": "code",
      "metadata": {
        "colab": {
          "base_uri": "https://localhost:8080/"
        },
        "id": "0Hlx_i94IDGp",
        "outputId": "a2f01034-b860-4d80-fe3d-963a541ec6f8"
      },
      "source": [
        "!ls \"/content/drive/My Drive/MonirResearchDatasets\""
      ],
      "execution_count": 4,
      "outputs": [
        {
          "output_type": "stream",
          "text": [
            "freebase-vectors-skipgram1000-en.bin\n",
            "Glove-6B\n",
            "google_benchmark_data_embeddings_evaluation\n",
            "google_benchmark_data_embeddings_evaluation_update\n",
            "GoogleNews-vectors-negative300.bin\n",
            "google-question-words.txt\n",
            "surround-ga-records\n"
          ],
          "name": "stdout"
        }
      ]
    },
    {
      "cell_type": "code",
      "metadata": {
        "colab": {
          "base_uri": "https://localhost:8080/"
        },
        "id": "UKxDVBMkILxZ",
        "outputId": "6451ff2b-8203-4f88-ab79-87386fad3b44"
      },
      "source": [
        "!ls \"/content/drive/My Drive/MonirResearchDatasets/surround-ga-records\""
      ],
      "execution_count": 5,
      "outputs": [
        {
          "output_type": "stream",
          "text": [
            "ga-records.ttl\n"
          ],
          "name": "stdout"
        }
      ]
    },
    {
      "cell_type": "code",
      "metadata": {
        "id": "M8YGOQhIywk1"
      },
      "source": [
        "ga_record_datapath = \"/content/drive/My Drive/MonirResearchDatasets/surround-ga-records/ga-records.ttl\""
      ],
      "execution_count": 47,
      "outputs": []
    },
    {
      "cell_type": "code",
      "metadata": {
        "colab": {
          "base_uri": "https://localhost:8080/"
        },
        "id": "a7gcfS3mIRsR",
        "outputId": "bc56a700-79ad-4c9c-d8af-93afb22fe725"
      },
      "source": [
        "from rdflib import Graph\n",
        "\n",
        "g = Graph()\n",
        "g.parse(\"/content/drive/My Drive/MonirResearchDatasets/surround-ga-records/ga-records.ttl\", format='turtle')\n",
        "\n",
        "print(len(g))"
      ],
      "execution_count": 6,
      "outputs": [
        {
          "output_type": "stream",
          "text": [
            "843765\n"
          ],
          "name": "stdout"
        }
      ]
    },
    {
      "cell_type": "code",
      "metadata": {
        "colab": {
          "base_uri": "https://localhost:8080/"
        },
        "id": "C-1EA42iMtpE",
        "outputId": "0c30e1a7-bbb3-4a69-86bf-d91bed7c43c5"
      },
      "source": [
        "# from GA-rdf repository separate and list all the ga-themes\n",
        "gaThemes = []\n",
        "with open(\"/content/drive/My Drive/MonirResearchDatasets/surround-ga-records/ga-records.ttl\", 'rt') as f:\n",
        "  data = f.readlines()\n",
        "for line in data:\n",
        "    if line.__contains__('ga-themes'):\n",
        "        #print(line)\n",
        "        stringTemp = line.split(\"ga-themes/\",1)[1]\n",
        "        stringTemp = stringTemp.split('>')[0]\n",
        "        gaThemes.append(stringTemp)\n",
        "#print(dataLog)\n",
        "print(gaThemes[:9])\n",
        "print(len(gaThemes))"
      ],
      "execution_count": 36,
      "outputs": [
        {
          "output_type": "stream",
          "text": [
            "['magnetics', 'tmi', 'airborne-digital-data', 'topography', 'nci', 'topography', 'geophysical-survey', 'awags', 'radiometrics']\n",
            "40377\n"
          ],
          "name": "stdout"
        }
      ]
    },
    {
      "cell_type": "code",
      "metadata": {
        "colab": {
          "base_uri": "https://localhost:8080/"
        },
        "id": "zE0ERRmzyCsY",
        "outputId": "7a70dca8-78ec-4330-d6ad-de4f10feeb3d"
      },
      "source": [
        "gaThemes.count('nci')"
      ],
      "execution_count": 45,
      "outputs": [
        {
          "output_type": "execute_result",
          "data": {
            "text/plain": [
              "4076"
            ]
          },
          "metadata": {
            "tags": []
          },
          "execution_count": 45
        }
      ]
    },
    {
      "cell_type": "code",
      "metadata": {
        "colab": {
          "base_uri": "https://localhost:8080/"
        },
        "id": "tTRMRfXgv88p",
        "outputId": "796aa1b2-7c81-41e7-bcdd-20018c380698"
      },
      "source": [
        "duplicate_gaThemes = []\n",
        "duplicate_gaThemes = [item for item, count in collections.Counter(gaThemes).items() if count > 1]\n",
        "print(len(duplicate_gaThemes))"
      ],
      "execution_count": 39,
      "outputs": [
        {
          "output_type": "stream",
          "text": [
            "235\n"
          ],
          "name": "stdout"
        }
      ]
    },
    {
      "cell_type": "code",
      "metadata": {
        "id": "ukRQgNGXusKV"
      },
      "source": [
        "unique_gaThemes = list(dict.fromkeys(gaThemes))"
      ],
      "execution_count": 37,
      "outputs": []
    },
    {
      "cell_type": "code",
      "metadata": {
        "colab": {
          "base_uri": "https://localhost:8080/"
        },
        "id": "Tw7GanyEtuYF",
        "outputId": "de1697d7-c402-4d9c-c12d-842b3e1a75b0"
      },
      "source": [
        "print(len(unique_gaThemes))"
      ],
      "execution_count": 40,
      "outputs": [
        {
          "output_type": "stream",
          "text": [
            "371\n"
          ],
          "name": "stdout"
        }
      ]
    },
    {
      "cell_type": "code",
      "metadata": {
        "colab": {
          "base_uri": "https://localhost:8080/"
        },
        "id": "M-Juk0HCSRoG",
        "outputId": "a95c4be4-7fbb-4c0e-d72a-5dffa8ab3291"
      },
      "source": [
        "print(dataLog[9])"
      ],
      "execution_count": 19,
      "outputs": [
        {
          "output_type": "stream",
          "text": [
            "    <http://example.org/def/ga-themes/nci>, <http://purl.org/au-research/vocabulary/anzsrc-for/2008/0404> .\n",
            "\n"
          ],
          "name": "stdout"
        }
      ]
    },
    {
      "cell_type": "code",
      "metadata": {
        "colab": {
          "base_uri": "https://localhost:8080/"
        },
        "id": "uxSVIFh-tnZP",
        "outputId": "ae0adf4e-169c-4e90-db84-e63a764a951a"
      },
      "source": [
        "print(gaThemes[:100])"
      ],
      "execution_count": 41,
      "outputs": [
        {
          "output_type": "stream",
          "text": [
            "['magnetics', 'tmi', 'airborne-digital-data', 'topography', 'nci', 'topography', 'geophysical-survey', 'awags', 'radiometrics', 'nci', 'geophysical-survey', 'point-located-data', 'nci', 'hydrogeology', 'groundwater', 'commodities', 'prospectivity', 'nci', 'geodesy', 'dataset', 'nci', 'earthquake-hazard', 'marine', 'geochemistry', 'continental-shelf', 'seismics', 'nci', 'topography', 'resource-assessment', 'stratigraphy', 'geology', 'geophysical-survey', 'point-located-data', 'geophysical-survey', 'awags', 'potassium', 'marine', 'gis-dataset', 'geomorphology', 'topography', 'economic-geology', 'mineral-deposits', 'topography', 'geophysics', 'marine', 'seismics', 'navigation', 'topography', 'nci', 'stratigraphy', 'palaeontology', 'geophysical-survey', 'point-located-data', 'geophysical-survey', 'awags', 'potassium', 'volcanology', 'geophysical-survey', 'awags', 'potassium', 'geophysical-survey', 'point-located-data', 'nci', 'palaeontology', 'geodesy', 'dataset', 'dataset', 'geology', 'geophysics', 'petroleum-exploration', 'seismic-reflection', 'marine', 'isotopes', 'palaeogeography', 'magnetics', 'tmi', 'airborne-digital-data', 'topography', 'topography', 'topography', 'nci', 'geophysical-survey', 'awags', 'radiometrics', 'geology', 'nci', 'geophysical-survey', 'point-located-data', 'mineral-deposits', 'minerals', 'national-dataset', 'vehicle', 'terminals', 'wharf', 'mineral-exploration', 'geology', 'heritage', 'marine', 'marine-survey', 'bathymetry']\n"
          ],
          "name": "stdout"
        }
      ]
    },
    {
      "cell_type": "code",
      "metadata": {
        "colab": {
          "base_uri": "https://localhost:8080/"
        },
        "id": "6-FCagCRw4JB",
        "outputId": "cb4b2060-40e6-4ffc-94c8-0fc5b93c23b8"
      },
      "source": [
        "print(duplicate_gaThemes[:100])"
      ],
      "execution_count": 42,
      "outputs": [
        {
          "output_type": "stream",
          "text": [
            "['magnetics', 'tmi', 'airborne-digital-data', 'topography', 'nci', 'geophysical-survey', 'awags', 'radiometrics', 'point-located-data', 'hydrogeology', 'groundwater', 'commodities', 'prospectivity', 'geodesy', 'dataset', 'marine', 'geochemistry', 'continental-shelf', 'seismics', 'resource-assessment', 'stratigraphy', 'geology', 'potassium', 'gis-dataset', 'geomorphology', 'economic-geology', 'mineral-deposits', 'geophysics', 'navigation', 'palaeontology', 'volcanology', 'petroleum-exploration', 'seismic-reflection', 'isotopes', 'palaeogeography', 'minerals', 'national-dataset', 'mineral-exploration', 'marine-survey', 'bathymetry', 'uranium', 'mapping', 'petrology', 'risk-assessment', 'gis', 'dem', 'hydrology', 'data', 'geoscience-databases', '3d-model', 'geoscience-education', 'ore', 'mining', 'pmd*crc', 'industry', 'thermodynamics', 'environmental', 'coasts', 'sedimentology', 'seabed', 'marine-environmental-baselines', 'gravity', 'administrative-boundaries', 'ground-digital-data', 'first-vertical-derivative', 'multibeam', 'water', 'earthquakes', 'risk-analysis', 'geoscience', 'geological-storage-of-co2', 'tourism', 'petroleum-geology', 'remote-sensing', 'antarctic-data', 'rock-properties', 'seismic-velocity', 'geomagnetism', 'seismic-sections', 'magneto-tellurics', 'digital-elevation-data', 'satellite-imagery', 'landforms', 'regolith', 'nerp-marine-biodiversity-hub', 'hydrocarbons', 'tsunamis', 'marine-jurisdiction', 'nerp', 'mineralogy', 'structural-geology', 'research', 'magnetic-data', 'radiometric-data,-4-channel', 'metamorphism', 'elevation-data', 'continental-margins', 'energy-infrastructure', 'geochronology', 'earth-observations-from-space']\n"
          ],
          "name": "stdout"
        }
      ]
    },
    {
      "cell_type": "code",
      "metadata": {
        "colab": {
          "base_uri": "https://localhost:8080/"
        },
        "id": "nJep1V93xDdX",
        "outputId": "29b88da7-b740-4c89-8020-0dcb688907a6"
      },
      "source": [
        "print(unique_gaThemes[:100])"
      ],
      "execution_count": 43,
      "outputs": [
        {
          "output_type": "stream",
          "text": [
            "['magnetics', 'tmi', 'airborne-digital-data', 'topography', 'nci', 'geophysical-survey', 'awags', 'radiometrics', 'point-located-data', 'hydrogeology', 'groundwater', 'commodities', 'prospectivity', 'geodesy', 'dataset', 'earthquake-hazard', 'marine', 'geochemistry', 'continental-shelf', 'seismics', 'resource-assessment', 'stratigraphy', 'geology', 'potassium', 'gis-dataset', 'geomorphology', 'economic-geology', 'mineral-deposits', 'geophysics', 'navigation', 'palaeontology', 'volcanology', 'petroleum-exploration', 'seismic-reflection', 'isotopes', 'palaeogeography', 'minerals', 'national-dataset', 'vehicle', 'terminals', 'wharf', 'mineral-exploration', 'heritage', 'marine-survey', 'bathymetry', 'uranium', 'mapping', 'petrology', 'risk-assessment', 'gis', 'dem', 'hydrology', 'data', 'geoscience-databases', '3d-model', 'geoscience-education', 'ore', 'mining', 'pmd*crc', 'industry', 'thermodynamics', 'environmental', 'coasts', 'sedimentology', 'seabed', 'marine-environmental-baselines', 'gravity', 'administrative-boundaries', 'ground-digital-data', 'first-vertical-derivative', 'multibeam', 'water', 'earthquakes', 'risk-analysis', 'geoscience', 'geological-storage-of-co2', 'tourism', 'petroleum-geology', 'remote-sensing', 'antarctic-data', 'rock-properties', 'seismic-velocity', 'geomagnetism', 'seismic-sections', 'magneto-tellurics', 'digital-elevation-data', 'satellite-imagery', 'landforms', 'regolith', 'nerp-marine-biodiversity-hub', 'hydrocarbons', 'tsunamis', 'marine-jurisdiction', 'nerp', 'mineralogy', 'structural-geology', 'research', 'magnetic-data', 'radiometric-data,-4-channel', 'ccs']\n"
          ],
          "name": "stdout"
        }
      ]
    },
    {
      "cell_type": "code",
      "metadata": {
        "colab": {
          "base_uri": "https://localhost:8080/"
        },
        "id": "lPUNp_vyXzMP",
        "outputId": "a6fdc882-aafd-4796-f671-f9913b9ecaf0"
      },
      "source": [
        "#my_string=\"hello python world , i'm a beginner \"\n",
        "my_string=dataLog[0]\n",
        "stringTemp = my_string.split(\"ga-themes/\",1)[1]\n",
        "gaThemes = stringTemp.split('>')[0]\n",
        "print(gaThemes)"
      ],
      "execution_count": 28,
      "outputs": [
        {
          "output_type": "stream",
          "text": [
            "magnetics\n"
          ],
          "name": "stdout"
        }
      ]
    },
    {
      "cell_type": "code",
      "metadata": {
        "colab": {
          "base_uri": "https://localhost:8080/"
        },
        "id": "9S8xT_8oS7_1",
        "outputId": "38b23ddc-8d92-4b71-ec9a-19f5be077dbf"
      },
      "source": [
        "len(dataLog)"
      ],
      "execution_count": 17,
      "outputs": [
        {
          "output_type": "execute_result",
          "data": {
            "text/plain": [
              "40377"
            ]
          },
          "metadata": {
            "tags": []
          },
          "execution_count": 17
        }
      ]
    },
    {
      "cell_type": "code",
      "metadata": {
        "colab": {
          "base_uri": "https://localhost:8080/"
        },
        "id": "4c9FFKEFTm0s",
        "outputId": "3490ac1c-c58e-4139-b8fd-1ad348eda5f8"
      },
      "source": [
        "dataLog[:100]"
      ],
      "execution_count": 22,
      "outputs": [
        {
          "output_type": "execute_result",
          "data": {
            "text/plain": [
              "['    <http://example.org/def/ga-themes/magnetics>, <http://example.org/def/ga-themes/geophysical-survey>,\\n',\n",
              " '    <http://example.org/def/ga-themes/tmi>, <http://example.org/def/ga-themes/magnetism-and-palaeomagnetism>,\\n',\n",
              " '    <http://example.org/def/ga-themes/airborne-digital-data>, <http://example.org/def/ga-themes/awags> .\\n',\n",
              " '    <http://purl.org/au-research/vocabulary/anzsrc-for/2008/010112>, <http://example.org/def/ga-themes/topography> .\\n',\n",
              " '    <http://example.org/def/ga-themes/nci>, <http://purl.org/au-research/vocabulary/anzsrc-for/2008/0404> .\\n',\n",
              " '    <http://purl.org/au-research/vocabulary/anzsrc-for/2008/010112>, <http://example.org/def/ga-themes/topography> .\\n',\n",
              " '    <http://example.org/def/ga-themes/geophysical-survey>, <http://example.org/def/ga-themes/airborne-digital-data>,\\n',\n",
              " '    <http://example.org/def/ga-themes/awags>, <http://example.org/def/ga-themes/thorium>,\\n',\n",
              " '    <http://example.org/def/ga-themes/radiometrics> .\\n',\n",
              " '    <http://example.org/def/ga-themes/nci>, <http://purl.org/au-research/vocabulary/anzsrc-for/2008/0404> .\\n',\n",
              " '    <http://example.org/def/ga-themes/geophysical-survey>, <http://example.org/def/ga-themes/gravity>,\\n',\n",
              " '    <http://example.org/def/ga-themes/point-located-data>, <http://example.org/def/ga-themes/ground-digital-data> .\\n',\n",
              " '    <http://example.org/def/ga-themes/nci>, <http://purl.org/au-research/vocabulary/anzsrc-for/2008/0404> .\\n',\n",
              " '    <http://example.org/def/ga-themes/hydrogeology>, <http://purl.org/au-research/vocabulary/anzsrc-for/2008/040603>,\\n',\n",
              " '    <http://example.org/def/ga-themes/groundwater> .\\n',\n",
              " '    <http://purl.org/au-research/vocabulary/anzsrc-for/2008/0403>, <http://example.org/def/ga-themes/commodities>,\\n',\n",
              " '    <http://example.org/def/ga-themes/prospectivity>, <http://example.org/def/ga-themes/resource-assessment> .\\n',\n",
              " '    <http://example.org/def/ga-themes/nci>, <http://purl.org/au-research/vocabulary/anzsrc-for/2008/0404> .\\n',\n",
              " '    <http://example.org/def/ga-themes/geodesy>, <http://purl.org/au-research/vocabulary/anzsrc-for/2008/090902>,\\n',\n",
              " '    <http://example.org/def/ga-themes/dataset> .\\n',\n",
              " '    <http://example.org/def/ga-themes/nci>, <http://purl.org/au-research/vocabulary/anzsrc-for/2008/0404> .\\n',\n",
              " '    <http://example.org/def/ga-themes/earthquake-hazard>, <http://example.org/def/ga-themes/stable-continental-region> .\\n',\n",
              " '    <http://example.org/def/ga-themes/marine>, <http://example.org/def/ga-themes/seabed>,\\n',\n",
              " '    <http://example.org/def/ga-themes/geochemistry>, <http://example.org/def/ga-themes/marine-environmental-baselines>,\\n',\n",
              " '    <http://example.org/def/ga-themes/continental-shelf>, <http://purl.org/au-research/vocabulary/anzsrc-for/2008/040305> .\\n',\n",
              " '    <http://purl.org/au-research/vocabulary/anzsrc-for/2008/04>, <http://example.org/def/ga-themes/seismics> .\\n',\n",
              " '    <http://example.org/def/ga-themes/nci>, <http://purl.org/au-research/vocabulary/anzsrc-for/2008/0404> .\\n',\n",
              " '    <http://purl.org/au-research/vocabulary/anzsrc-for/2008/010112>, <http://example.org/def/ga-themes/topography> .\\n',\n",
              " '    <http://purl.org/au-research/vocabulary/anzsrc-for/2008/0403>, <http://example.org/def/ga-themes/resource-assessment>,\\n',\n",
              " '    <http://example.org/def/ga-themes/stratigraphy>, <http://example.org/def/ga-themes/ore>,\\n',\n",
              " '    <http://example.org/def/ga-themes/geology> .\\n',\n",
              " '    <http://example.org/def/ga-themes/geophysical-survey>, <http://example.org/def/ga-themes/gravity>,\\n',\n",
              " '    <http://example.org/def/ga-themes/point-located-data>, <http://example.org/def/ga-themes/ground-digital-data> .\\n',\n",
              " '    <http://example.org/def/ga-themes/geophysical-survey>, <http://example.org/def/ga-themes/airborne-digital-data>,\\n',\n",
              " '    <http://example.org/def/ga-themes/awags>, <http://example.org/def/ga-themes/radiometrics>,\\n',\n",
              " '    <http://example.org/def/ga-themes/potassium> .\\n',\n",
              " '    <http://example.org/def/ga-themes/marine>, <http://purl.org/au-research/vocabulary/anzsrc-for/2008/040305>,\\n',\n",
              " '    <http://example.org/def/ga-themes/gis-dataset>, <http://example.org/def/ga-themes/antarctica>,\\n',\n",
              " '    <http://example.org/def/ga-themes/geomorphology> .\\n',\n",
              " '    <http://purl.org/au-research/vocabulary/anzsrc-for/2008/010112>, <http://example.org/def/ga-themes/topography> .\\n',\n",
              " '    <http://purl.org/au-research/vocabulary/anzsrc-for/2008/04>, <http://example.org/def/ga-themes/economic-geology>,\\n',\n",
              " '    <http://example.org/def/ga-themes/mineral-deposits> .\\n',\n",
              " '    <http://purl.org/au-research/vocabulary/anzsrc-for/2008/010112>, <http://example.org/def/ga-themes/topography> .\\n',\n",
              " '    <http://purl.org/au-research/vocabulary/anzsrc-for/2008/04>, <http://example.org/def/ga-themes/geophysics> .\\n',\n",
              " '    <http://purl.org/au-research/vocabulary/anzsrc-for/2008/04>, <http://example.org/def/ga-themes/marine>,\\n',\n",
              " '    <http://example.org/def/ga-themes/seismics>, <http://example.org/def/ga-themes/national-dataset>,\\n',\n",
              " '    <http://example.org/def/ga-themes/navigation>, <http://example.org/def/ga-themes/marine-survey> .\\n',\n",
              " '    <http://purl.org/au-research/vocabulary/anzsrc-for/2008/010112>, <http://example.org/def/ga-themes/topography> .\\n',\n",
              " '    <http://example.org/def/ga-themes/nci>, <http://purl.org/au-research/vocabulary/anzsrc-for/2008/0404> .\\n',\n",
              " '    <http://purl.org/au-research/vocabulary/anzsrc-for/2008/0403>, <http://example.org/def/ga-themes/stratigraphy>,\\n',\n",
              " '    <http://example.org/def/ga-themes/palaeontology> .\\n',\n",
              " '    <http://example.org/def/ga-themes/geophysical-survey>, <http://example.org/def/ga-themes/gravity>,\\n',\n",
              " '    <http://example.org/def/ga-themes/point-located-data>, <http://example.org/def/ga-themes/ground-digital-data> .\\n',\n",
              " '    <http://example.org/def/ga-themes/geophysical-survey>, <http://example.org/def/ga-themes/airborne-digital-data>,\\n',\n",
              " '    <http://example.org/def/ga-themes/awags>, <http://example.org/def/ga-themes/radiometrics>,\\n',\n",
              " '    <http://example.org/def/ga-themes/potassium> .\\n',\n",
              " '    <http://purl.org/au-research/vocabulary/anzsrc-for/2008/04>, <http://example.org/def/ga-themes/volcanology> .\\n',\n",
              " '    <http://example.org/def/ga-themes/geophysical-survey>, <http://example.org/def/ga-themes/airborne-digital-data>,\\n',\n",
              " '    <http://example.org/def/ga-themes/awags>, <http://example.org/def/ga-themes/radiometrics>,\\n',\n",
              " '    <http://example.org/def/ga-themes/potassium> .\\n',\n",
              " '    <http://example.org/def/ga-themes/geophysical-survey>, <http://example.org/def/ga-themes/gravity>,\\n',\n",
              " '    <http://example.org/def/ga-themes/point-located-data>, <http://example.org/def/ga-themes/ground-digital-data> .\\n',\n",
              " '    <http://example.org/def/ga-themes/nci>, <http://purl.org/au-research/vocabulary/anzsrc-for/2008/0404> .\\n',\n",
              " '    <http://purl.org/au-research/vocabulary/anzsrc-for/2008/0403>, <http://example.org/def/ga-themes/palaeontology> .\\n',\n",
              " '    <http://example.org/def/ga-themes/geodesy>, <http://purl.org/au-research/vocabulary/anzsrc-for/2008/090902>,\\n',\n",
              " '    <http://example.org/def/ga-themes/dataset> .\\n',\n",
              " '    <http://purl.org/au-research/vocabulary/anzsrc-for/2008/04>, <http://example.org/def/ga-themes/dataset>,\\n',\n",
              " '    <http://example.org/def/ga-themes/geology> .\\n',\n",
              " '    <http://example.org/def/ga-themes/geophysics>, <http://example.org/def/ga-themes/seismic-sections>,\\n',\n",
              " '    <http://example.org/def/ga-themes/petroleum-exploration>, <http://example.org/def/ga-themes/mineral-exploration>,\\n',\n",
              " '    <http://purl.org/au-research/vocabulary/anzsrc-for/2008/040407>, <http://example.org/def/ga-themes/seismic-reflection> .\\n',\n",
              " '    <http://purl.org/au-research/vocabulary/anzsrc-for/2008/04>, <http://example.org/def/ga-themes/marine>,\\n',\n",
              " '    <http://example.org/def/ga-themes/isotopes> .\\n',\n",
              " '    <http://purl.org/au-research/vocabulary/anzsrc-for/2008/0403>, <http://example.org/def/ga-themes/palaeogeography> .\\n',\n",
              " '    <http://example.org/def/ga-themes/magnetics>, <http://example.org/def/ga-themes/geophysical-survey>,\\n',\n",
              " '    <http://example.org/def/ga-themes/tmi>, <http://example.org/def/ga-themes/magnetism-and-palaeomagnetism>,\\n',\n",
              " '    <http://example.org/def/ga-themes/airborne-digital-data>, <http://example.org/def/ga-themes/awags> .\\n',\n",
              " '    <http://purl.org/au-research/vocabulary/anzsrc-for/2008/010112>, <http://example.org/def/ga-themes/topography> .\\n',\n",
              " '    <http://purl.org/au-research/vocabulary/anzsrc-for/2008/010112>, <http://example.org/def/ga-themes/topography> .\\n',\n",
              " '    <http://purl.org/au-research/vocabulary/anzsrc-for/2008/010112>, <http://example.org/def/ga-themes/topography> .\\n',\n",
              " '    <http://example.org/def/ga-themes/nci>, <http://purl.org/au-research/vocabulary/anzsrc-for/2008/0404> .\\n',\n",
              " '    <http://example.org/def/ga-themes/geophysical-survey>, <http://example.org/def/ga-themes/airborne-digital-data>,\\n',\n",
              " '    <http://example.org/def/ga-themes/awags>, <http://example.org/def/ga-themes/thorium>,\\n',\n",
              " '    <http://example.org/def/ga-themes/radiometrics> .\\n',\n",
              " '    <http://purl.org/au-research/vocabulary/anzsrc-for/2008/04>, <http://example.org/def/ga-themes/geology> .\\n',\n",
              " '    <http://example.org/def/ga-themes/nci>, <http://purl.org/au-research/vocabulary/anzsrc-for/2008/0404> .\\n',\n",
              " '    <http://example.org/def/ga-themes/geophysical-survey>, <http://example.org/def/ga-themes/gravity>,\\n',\n",
              " '    <http://example.org/def/ga-themes/point-located-data>, <http://example.org/def/ga-themes/ground-digital-data> .\\n',\n",
              " '    <http://purl.org/au-research/vocabulary/anzsrc-for/2008/0403>, <http://example.org/def/ga-themes/mineral-deposits>,\\n',\n",
              " '    <http://example.org/def/ga-themes/minerals> .\\n',\n",
              " '    <http://example.org/def/ga-themes/national-dataset>, <http://example.org/def/ga-themes/ferry>,\\n',\n",
              " '    <http://example.org/def/ga-themes/vehicle>, <http://example.org/def/ga-themes/passengers>,\\n',\n",
              " '    <http://example.org/def/ga-themes/terminals>, <http://example.org/def/ga-themes/public>,\\n',\n",
              " '    <http://example.org/def/ga-themes/wharf>, <http://example.org/def/ga-themes/jetty> .\\n',\n",
              " '    <http://purl.org/au-research/vocabulary/anzsrc-for/2008/04>, <http://example.org/def/ga-themes/mineral-exploration> .\\n',\n",
              " '    <http://purl.org/au-research/vocabulary/anzsrc-for/2008/04>, <http://example.org/def/ga-themes/geology>,\\n',\n",
              " '    <http://example.org/def/ga-themes/heritage> .\\n',\n",
              " '    <http://example.org/def/ga-themes/marine>, <http://purl.org/au-research/vocabulary/anzsrc-for/2008/040305>,\\n',\n",
              " '    <http://example.org/def/ga-themes/marine-survey>, <http://example.org/def/ga-themes/co2-capture>,\\n',\n",
              " '    <http://example.org/def/ga-themes/bathymetry> .\\n']"
            ]
          },
          "metadata": {
            "tags": []
          },
          "execution_count": 22
        }
      ]
    },
    {
      "cell_type": "code",
      "metadata": {
        "id": "jD8yD2w1IqqA"
      },
      "source": [
        "from rdflib import Dataset\n",
        "from rdflib.namespace import RDF\n",
        "\n",
        "c =\"<http://data.surroundaustralia.com/def/agr#hasClassifier>\"\n",
        "\n",
        "gd = Dataset()\n",
        "gd.parse(\"/content/drive/My Drive/MonirResearchDatasets/surround-ga-records/ga-records.ttl\")\n",
        "\n",
        "for s, p, o, gd in gd.quads((None, c, None, None)):\n",
        "    print(o, gd)"
      ],
      "execution_count": 9,
      "outputs": []
    },
    {
      "cell_type": "code",
      "metadata": {
        "id": "iX2EuLzxKKMW"
      },
      "source": [
        ""
      ],
      "execution_count": null,
      "outputs": []
    }
  ]
}