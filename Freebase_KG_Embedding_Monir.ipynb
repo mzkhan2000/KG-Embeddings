{
  "nbformat": 4,
  "nbformat_minor": 0,
  "metadata": {
    "colab": {
      "name": " Stanford GloVe Embedding_Monir.ipynb",
      "provenance": [],
      "authorship_tag": "ABX9TyPISjYDLn/SoqXUh5WHJmUZ",
      "include_colab_link": true
    },
    "kernelspec": {
      "name": "python3",
      "display_name": "Python 3"
    },
    "language_info": {
      "name": "python"
    }
  },
  "cells": [
    {
      "cell_type": "markdown",
      "metadata": {
        "id": "view-in-github",
        "colab_type": "text"
      },
      "source": [
        "<a href=\"https://colab.research.google.com/github/mzkhan2000/KG-Embeddings/blob/main/Freebase_KG_Embedding_Monir.ipynb\" target=\"_parent\"><img src=\"https://colab.research.google.com/assets/colab-badge.svg\" alt=\"Open In Colab\"/></a>"
      ]
    },
    {
      "cell_type": "code",
      "metadata": {
        "id": "sHcuJM9DOs0S"
      },
      "source": [
        "### Load Stanford GloVe Embedding_Monir"
      ],
      "execution_count": 1,
      "outputs": []
    },
    {
      "cell_type": "code",
      "metadata": {
        "colab": {
          "base_uri": "https://localhost:8080/"
        },
        "id": "3h4nLG70PMAo",
        "outputId": "67a874af-c798-4dd2-fc32-f29f0ab61ebf"
      },
      "source": [
        "pip install --upgrade gensim"
      ],
      "execution_count": 5,
      "outputs": [
        {
          "output_type": "stream",
          "text": [
            "Requirement already up-to-date: gensim in /usr/local/lib/python3.7/dist-packages (4.0.1)\n",
            "Requirement already satisfied, skipping upgrade: scipy>=0.18.1 in /usr/local/lib/python3.7/dist-packages (from gensim) (1.4.1)\n",
            "Requirement already satisfied, skipping upgrade: numpy>=1.11.3 in /usr/local/lib/python3.7/dist-packages (from gensim) (1.19.5)\n",
            "Requirement already satisfied, skipping upgrade: smart-open>=1.8.1 in /usr/local/lib/python3.7/dist-packages (from gensim) (5.1.0)\n"
          ],
          "name": "stdout"
        }
      ]
    },
    {
      "cell_type": "code",
      "metadata": {
        "id": "eckVKYL5PMpd"
      },
      "source": [
        "# Python program to generate word vectors using Word2Vec\n",
        "\n",
        "# importing all necessary modules\n",
        "from nltk.tokenize import sent_tokenize, word_tokenize\n",
        "import warnings\n",
        "\n",
        "warnings.filterwarnings(action = 'ignore')\n",
        "\n",
        "import gensim\n",
        "from gensim.models import Word2Vec"
      ],
      "execution_count": 3,
      "outputs": []
    },
    {
      "cell_type": "code",
      "metadata": {
        "colab": {
          "base_uri": "https://localhost:8080/"
        },
        "id": "PJR7YNXSPQ5k",
        "outputId": "1f659b72-088b-4bb7-98b1-0f0840784e4f"
      },
      "source": [
        "import numpy \n",
        "import nltk\n",
        "nltk.download('punkt')"
      ],
      "execution_count": 4,
      "outputs": [
        {
          "output_type": "stream",
          "text": [
            "[nltk_data] Downloading package punkt to /root/nltk_data...\n",
            "[nltk_data]   Unzipping tokenizers/punkt.zip.\n"
          ],
          "name": "stdout"
        },
        {
          "output_type": "execute_result",
          "data": {
            "text/plain": [
              "True"
            ]
          },
          "metadata": {
            "tags": []
          },
          "execution_count": 4
        }
      ]
    },
    {
      "cell_type": "code",
      "metadata": {
        "id": "UchNNj3xPcoM",
        "outputId": "cdb4e7ab-f3bf-4fb7-dd54-cef743379629",
        "colab": {
          "base_uri": "https://localhost:8080/"
        }
      },
      "source": [
        "from gensim.models import KeyedVectors"
      ],
      "execution_count": 4,
      "outputs": [
        {
          "output_type": "stream",
          "text": [
            "/usr/local/lib/python3.7/dist-packages/gensim/similarities/__init__.py:15: UserWarning: The gensim.similarities.levenshtein submodule is disabled, because the optional Levenshtein package <https://pypi.org/project/python-Levenshtein/> is unavailable. Install Levenhstein (e.g. `pip install python-Levenshtein`) to suppress this warning.\n",
            "  warnings.warn(msg)\n"
          ],
          "name": "stderr"
        }
      ]
    },
    {
      "cell_type": "code",
      "metadata": {
        "id": "boZY4uKxPi48"
      },
      "source": [
        "from gensim.scripts.glove2word2vec import glove2word2vec"
      ],
      "execution_count": 6,
      "outputs": []
    },
    {
      "cell_type": "code",
      "metadata": {
        "id": "LtgpJ5ZMPpqr"
      },
      "source": [
        "from google.colab import drive"
      ],
      "execution_count": 7,
      "outputs": []
    },
    {
      "cell_type": "code",
      "metadata": {
        "colab": {
          "base_uri": "https://localhost:8080/"
        },
        "id": "E4v32bImQY-a",
        "outputId": "5007eafd-ed74-437b-9c00-81634419dc6b"
      },
      "source": [
        "from google.colab import drive\n",
        "drive.mount('/content/drive')"
      ],
      "execution_count": 8,
      "outputs": [
        {
          "output_type": "stream",
          "text": [
            "Mounted at /content/drive\n"
          ],
          "name": "stdout"
        }
      ]
    },
    {
      "cell_type": "code",
      "metadata": {
        "colab": {
          "base_uri": "https://localhost:8080/"
        },
        "id": "UGjtDYFdSsCi",
        "outputId": "a8b4b1b7-0777-469e-a6f3-c0657adafd7e"
      },
      "source": [
        "!ls \"/content/drive/My Drive/MonirResearchDatasets\""
      ],
      "execution_count": 9,
      "outputs": [
        {
          "output_type": "stream",
          "text": [
            "freebase-vectors-skipgram1000-en.bin  GoogleNews-vectors-negative300.bin\n",
            "Glove-6B\n"
          ],
          "name": "stdout"
        }
      ]
    },
    {
      "cell_type": "code",
      "metadata": {
        "id": "RdxOg_ibTpR9"
      },
      "source": [
        "freebase = \"/content/drive/My Drive/MonirResearchDatasets/freebase-vectors-skipgram1000-en.bin\""
      ],
      "execution_count": 8,
      "outputs": []
    },
    {
      "cell_type": "code",
      "metadata": {
        "id": "Imka_cPxFBYJ"
      },
      "source": [
        "GoogleNews = \"/content/drive/My Drive/MonirResearchDatasets/GoogleNews-vectors-negative300.bin\""
      ],
      "execution_count": 2,
      "outputs": []
    },
    {
      "cell_type": "code",
      "metadata": {
        "id": "RrVICj02T6Ul"
      },
      "source": [
        "freebase_model = KeyedVectors.load_word2vec_format(freebase, binary=True)"
      ],
      "execution_count": 9,
      "outputs": []
    },
    {
      "cell_type": "code",
      "metadata": {
        "id": "0vaX8Y9RFLN3"
      },
      "source": [
        "GoogleNews_model = KeyedVectors.load_word2vec_format(GoogleNews, binary=True)"
      ],
      "execution_count": 6,
      "outputs": []
    },
    {
      "cell_type": "code",
      "metadata": {
        "colab": {
          "base_uri": "https://localhost:8080/"
        },
        "id": "4jKg5TmpT-Rk",
        "outputId": "7898ccf2-37c5-4032-c501-b4a78a0a9e62"
      },
      "source": [
        "!ls \"/content/drive/My Drive/MonirResearchDatasets/Glove-6B\"\n"
      ],
      "execution_count": 12,
      "outputs": [
        {
          "output_type": "stream",
          "text": [
            "'Copy of glove.6B.50d.txt'   glove.6B.100d.txt.word2vec   glove.6B.300d.txt\n",
            " glove.6B.100d.txt\t     glove.6B.200d.txt\t\t  glove.6B.50d.txt\n"
          ],
          "name": "stdout"
        }
      ]
    },
    {
      "cell_type": "code",
      "metadata": {
        "colab": {
          "base_uri": "https://localhost:8080/"
        },
        "id": "5iROf-22VSri",
        "outputId": "64be9a7d-4dbb-4979-a89e-d1b11fb045ea"
      },
      "source": [
        "from gensim.scripts.glove2word2vec import glove2word2vec\n",
        "glove_input_file = '/content/drive/My Drive/MonirResearchDatasets/Glove-6B/glove.6B.100d.txt'\n",
        "word2vec_output_file = '/content/drive/My Drive/MonirResearchDatasets/Glove-6B/glove.6B.100d.txt.word2vec'\n",
        "glove2word2vec(glove_input_file, word2vec_output_file)"
      ],
      "execution_count": 13,
      "outputs": [
        {
          "output_type": "execute_result",
          "data": {
            "text/plain": [
              "(400000, 100)"
            ]
          },
          "metadata": {
            "tags": []
          },
          "execution_count": 13
        }
      ]
    },
    {
      "cell_type": "code",
      "metadata": {
        "id": "BOHAkSDQY6uc"
      },
      "source": [
        "from gensim.models import KeyedVectors\n",
        "# load the Stanford GloVe model\n",
        "file_glove_6B = '/content/drive/My Drive/MonirResearchDatasets/Glove-6B/glove.6B.100d.txt.word2vec'\n",
        "Glove_6B_model = KeyedVectors.load_word2vec_format(file_glove_6B, binary=False)"
      ],
      "execution_count": 14,
      "outputs": []
    },
    {
      "cell_type": "code",
      "metadata": {
        "colab": {
          "base_uri": "https://localhost:8080/"
        },
        "id": "mlAJOeIGZyRZ",
        "outputId": "d52d1ec3-0543-4a90-9cb8-6cdb8bd2b345"
      },
      "source": [
        "gravity10 = model.most_similar('gravity', topn=10)\n",
        "print(gravity10)"
      ],
      "execution_count": 15,
      "outputs": [
        {
          "output_type": "stream",
          "text": [
            "[('gravitational', 0.7087547183036804), ('quantum', 0.682186484336853), ('cosmic', 0.6506437659263611), ('earth', 0.6482942700386047), ('measurements', 0.6432933807373047), ('particle', 0.6299072504043579), ('velocity', 0.6290275454521179), ('magnetic', 0.6241236925125122), ('theory', 0.6203150749206543), ('surface', 0.5997207760810852)]\n"
          ],
          "name": "stdout"
        }
      ]
    },
    {
      "cell_type": "code",
      "metadata": {
        "colab": {
          "base_uri": "https://localhost:8080/"
        },
        "id": "XdLb_XEvaA8J",
        "outputId": "cab0a298-e82f-43bf-9afd-55d952d27110"
      },
      "source": [
        "earthquakes10 = model.most_similar('earthquakes', topn=20)\n",
        "print(earthquakes10)"
      ],
      "execution_count": 16,
      "outputs": [
        {
          "output_type": "stream",
          "text": [
            "[('quakes', 0.9051985144615173), ('eruptions', 0.7356242537498474), ('earthquake', 0.7257689237594604), ('aftershocks', 0.7140659689903259), ('tsunamis', 0.7134846448898315), ('tremors', 0.708500325679779), ('typhoons', 0.7049413323402405), ('storms', 0.6794184446334839), ('temblors', 0.6687438488006592), ('magnitude', 0.6603460907936096), ('disasters', 0.6601459980010986), ('temblor', 0.660134494304657), ('volcanoes', 0.6596624851226807), ('cyclones', 0.6521583795547485), ('quake', 0.6450574994087219), ('floods', 0.6410703063011169), ('hurricanes', 0.6390317678451538), ('seismic', 0.6306996941566467), ('tornadoes', 0.6263212561607361), ('droughts', 0.6170334815979004)]\n"
          ],
          "name": "stdout"
        }
      ]
    },
    {
      "cell_type": "code",
      "metadata": {
        "colab": {
          "base_uri": "https://localhost:8080/"
        },
        "id": "VBh6eH3XaTGH",
        "outputId": "af609848-c5ef-46e8-d582-d21a038c9509"
      },
      "source": [
        "volcanology20 = model.most_similar('volcanology', topn=20)\n",
        "print(volcanology20)"
      ],
      "execution_count": 17,
      "outputs": [
        {
          "output_type": "stream",
          "text": [
            "[('seismology', 0.8169593811035156), ('geophysics', 0.6703683137893677), ('vulcanology', 0.6640471816062927), ('phivolcs', 0.6188452839851379), ('meteorology', 0.6002569794654846), ('seismological', 0.5463812351226807), ('climatology', 0.5395990014076233), ('kandilli', 0.5237540006637573), ('meteorological', 0.5066868662834167), ('seismologist', 0.49526211619377136), ('moc', 0.4907539188861847), ('niosh', 0.4906923472881317), ('neurosciences', 0.48028430342674255), ('gns', 0.4758787751197815), ('waqf', 0.47561755776405334), ('centaline', 0.474727988243103), ('hydrometeorology', 0.46823713183403015), ('oceanology', 0.4605597257614136), ('archeology', 0.4570297300815582), ('isae', 0.45241302251815796)]\n"
          ],
          "name": "stdout"
        }
      ]
    },
    {
      "cell_type": "code",
      "metadata": {
        "id": "7l7tMfx8acf_",
        "outputId": "c2a50784-a7cc-49e5-f099-5d08beb91d72",
        "colab": {
          "base_uri": "https://localhost:8080/"
        }
      },
      "source": [
        "gravity10 = model2.most_similar('gravity', topn=10)\n",
        "print(gravity10)"
      ],
      "execution_count": 21,
      "outputs": [
        {
          "output_type": "stream",
          "text": [
            "[('gravitational', 0.5997753739356995), ('gravitational_pull', 0.5593982338905334), ('Hejlik_MRAP_request', 0.5146459341049194), ('angular_momentum', 0.5063742399215698), ('gravitation', 0.5045830607414246), ('rotational_axis', 0.5041558146476746), ('gravitational_acceleration', 0.5000274777412415), ('gravitational_pulls', 0.49639594554901123), ('centrifugal_force', 0.49636369943618774), ('gravitational_attraction', 0.4957100450992584)]\n"
          ],
          "name": "stdout"
        }
      ]
    },
    {
      "cell_type": "code",
      "metadata": {
        "id": "tCck1JrvJGve",
        "outputId": "a216b8b2-61f3-45a9-d610-c0086979168e",
        "colab": {
          "base_uri": "https://localhost:8080/"
        }
      },
      "source": [
        "gravity10 = GoogleNews_model.most_similar('gravity', topn=10)\n",
        "print(gravity10)"
      ],
      "execution_count": 7,
      "outputs": [
        {
          "output_type": "stream",
          "text": [
            "[('gravitational', 0.5997753739356995), ('gravitational_pull', 0.5593982338905334), ('Hejlik_MRAP_request', 0.5146459341049194), ('angular_momentum', 0.5063742399215698), ('gravitation', 0.5045830607414246), ('rotational_axis', 0.5041558146476746), ('gravitational_acceleration', 0.5000274777412415), ('gravitational_pulls', 0.49639594554901123), ('centrifugal_force', 0.49636369943618774), ('gravitational_attraction', 0.4957100450992584)]\n"
          ],
          "name": "stdout"
        }
      ]
    },
    {
      "cell_type": "code",
      "metadata": {
        "id": "6GAURurQNCqA"
      },
      "source": [
        "gravity10 = freebase_model.most_similar('gravity', topn=10)\n",
        "print(gravity10)"
      ],
      "execution_count": null,
      "outputs": []
    },
    {
      "cell_type": "code",
      "metadata": {
        "id": "tbBy_Be8N4P9"
      },
      "source": [
        ""
      ],
      "execution_count": null,
      "outputs": []
    }
  ]
}