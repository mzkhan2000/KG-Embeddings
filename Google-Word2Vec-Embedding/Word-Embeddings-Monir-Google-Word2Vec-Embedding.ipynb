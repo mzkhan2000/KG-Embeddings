{
 "cells": [
  {
   "cell_type": "code",
   "execution_count": 6,
   "metadata": {},
   "outputs": [],
   "source": [
    "### Load Google’s Word2Vec Embedding"
   ]
  },
  {
   "cell_type": "code",
   "execution_count": 3,
   "metadata": {
    "scrolled": true
   },
   "outputs": [
    {
     "name": "stdout",
     "output_type": "stream",
     "text": [
      "Collecting gensimNote: you may need to restart the kernel to use updated packages.\n",
      "  Downloading gensim-4.0.1-cp38-cp38-win_amd64.whl (23.9 MB)\n",
      "Collecting smart-open>=1.8.1\n",
      "  Downloading smart_open-5.1.0-py3-none-any.whl (57 kB)\n",
      "Requirement already satisfied, skipping upgrade: numpy>=1.11.3 in c:\\programdata\\anaconda3\\lib\\site-packages (from gensim) (1.19.2)\n",
      "Requirement already satisfied, skipping upgrade: Cython==0.29.21 in c:\\programdata\\anaconda3\\lib\\site-packages (from gensim) (0.29.21)\n",
      "Requirement already satisfied, skipping upgrade: scipy>=0.18.1 in c:\\programdata\\anaconda3\\lib\\site-packages (from gensim) (1.5.2)\n",
      "Installing collected packages: smart-open, gensim\n",
      "Successfully installed gensim-4.0.1 smart-open-5.1.0\n",
      "\n"
     ]
    }
   ],
   "source": [
    "pip install --upgrade gensim"
   ]
  },
  {
   "cell_type": "code",
   "execution_count": 1,
   "metadata": {},
   "outputs": [],
   "source": [
    "# Python program to generate word vectors using Word2Vec\n",
    "\n",
    "# importing all necessary modules\n",
    "from nltk.tokenize import sent_tokenize, word_tokenize\n",
    "import warnings\n",
    "\n",
    "warnings.filterwarnings(action = 'ignore')\n",
    "\n",
    "import gensim\n",
    "from gensim.models import Word2Vec\n",
    "\n"
   ]
  },
  {
   "cell_type": "code",
   "execution_count": 2,
   "metadata": {},
   "outputs": [],
   "source": [
    "import numpy    "
   ]
  },
  {
   "cell_type": "code",
   "execution_count": 3,
   "metadata": {},
   "outputs": [
    {
     "name": "stderr",
     "output_type": "stream",
     "text": [
      "[nltk_data] Downloading package punkt to\n",
      "[nltk_data]     C:\\Users\\student\\AppData\\Roaming\\nltk_data...\n",
      "[nltk_data]   Package punkt is already up-to-date!\n"
     ]
    },
    {
     "data": {
      "text/plain": [
       "True"
      ]
     },
     "execution_count": 3,
     "metadata": {},
     "output_type": "execute_result"
    }
   ],
   "source": [
    "import nltk\n",
    "nltk.download('punkt')"
   ]
  },
  {
   "cell_type": "code",
   "execution_count": 4,
   "metadata": {},
   "outputs": [],
   "source": [
    "import re, string # using to remove regular expression, special characters in the csv files/ -Monir"
   ]
  },
  {
   "cell_type": "code",
   "execution_count": 8,
   "metadata": {},
   "outputs": [],
   "source": [
    "from gensim.models import KeyedVectors"
   ]
  },
  {
   "cell_type": "code",
   "execution_count": 9,
   "metadata": {},
   "outputs": [],
   "source": [
    "filename = 'GoogleNews-vectors-negative300.bin'"
   ]
  },
  {
   "cell_type": "code",
   "execution_count": 12,
   "metadata": {},
   "outputs": [],
   "source": [
    "model = KeyedVectors.load_word2vec_format(filename, binary=True)"
   ]
  },
  {
   "cell_type": "code",
   "execution_count": 28,
   "metadata": {},
   "outputs": [
    {
     "name": "stdout",
     "output_type": "stream",
     "text": [
      "[('gravitational', 0.5997753739356995), ('gravitational_pull', 0.5593982338905334), ('Hejlik_MRAP_request', 0.5146459341049194), ('angular_momentum', 0.5063742399215698), ('gravitation', 0.5045830607414246), ('rotational_axis', 0.5041558742523193), ('gravitational_acceleration', 0.5000274777412415), ('gravitational_pulls', 0.49639594554901123), ('centrifugal_force', 0.49636372923851013), ('gravitational_attraction', 0.4957100450992584), ('centripetal_force', 0.4875124990940094), ('crustal', 0.4727197289466858), ('float_weightlessly', 0.46380218863487244), ('magnetic_dipole', 0.46275338530540466), ('rotational_velocity', 0.45679333806037903), ('geometry', 0.4517963230609894), ('shelved_Gayl_writes', 0.45056793093681335), ('velocities', 0.44889166951179504), ('planetary_orbits', 0.4479413628578186), ('gravities', 0.44537898898124695)]\n"
     ]
    }
   ],
   "source": [
    "gravity20 = model.most_similar('gravity', topn=20)\n",
    "print(gravity20)"
   ]
  },
  {
   "cell_type": "code",
   "execution_count": 24,
   "metadata": {},
   "outputs": [
    {
     "name": "stdout",
     "output_type": "stream",
     "text": [
      "0.5045831\n"
     ]
    }
   ],
   "source": [
    "print(model.similarity('gravity', 'gravitation'))"
   ]
  },
  {
   "cell_type": "code",
   "execution_count": 27,
   "metadata": {},
   "outputs": [
    {
     "name": "stdout",
     "output_type": "stream",
     "text": [
      "[('quakes', 0.903087854385376), ('temblors', 0.8105968832969666), ('earthquake', 0.7766882181167603), ('temblor', 0.7332266569137573), ('quake', 0.7095760703086853), ('#.#_magnitude_earthquake', 0.7070956230163574), ('tsunamis', 0.6979933977127075), ('quakes_measuring', 0.6927040815353394), ('seismic_activity', 0.6842763423919678), ('aftershocks', 0.6836925745010376), ('magnitude_earthquake', 0.6727523803710938), ('#.#_magnitude_quake', 0.6714290976524353), ('undersea_earthquakes', 0.6678906083106995), ('tremor', 0.6562313437461853), ('subduction_zone_earthquake', 0.6480132341384888), ('earth_tremors', 0.6416937112808228), ('tremors', 0.631248414516449), ('foreshocks', 0.6311097145080566), ('M#.#_earthquake', 0.6307376027107239), ('undersea_earthquake', 0.6290364265441895)]\n"
     ]
    }
   ],
   "source": [
    "earthquakes10 = model.most_similar('earthquakes', topn=20)\n",
    "print(earthquakes10)"
   ]
  },
  {
   "cell_type": "code",
   "execution_count": 29,
   "metadata": {},
   "outputs": [
    {
     "name": "stdout",
     "output_type": "stream",
     "text": [
      "[('vulcanology', 0.6936037540435791), ('seismology', 0.6210888028144836), ('vulcanologist', 0.6048411130905151), ('Syamsu_Rizal', 0.6042380928993225), ('volcano_observatory', 0.6035304069519043), ('volcanology_institute', 0.6028581261634827), ('Volcanology', 0.5997087359428406), ('Agus_Budianto', 0.5818336606025696), ('volcanologist', 0.5817856788635254), ('Umar_Rosadi', 0.5810375213623047), ('volcanology_center', 0.5794513821601868), ('meteorology', 0.5783780217170715), ('Subandrio', 0.5739659070968628), ('Saut_Simatupang', 0.5693181157112122), ('Hugo_Yepes', 0.5610526204109192), ('Haraldur_Sigurdsson', 0.5601189136505127), ('volcanic_activity', 0.5578427314758301), ('Triyani', 0.552734375), ('volcano', 0.5462037920951843), ('Juan_Cayupi', 0.5452055335044861)]\n"
     ]
    }
   ],
   "source": [
    "volcanology20 = model.most_similar('volcanology', topn=20)\n",
    "print(volcanology20)"
   ]
  },
  {
   "cell_type": "code",
   "execution_count": 30,
   "metadata": {},
   "outputs": [
    {
     "name": "stdout",
     "output_type": "stream",
     "text": [
      "[('4D_seismic', 0.6404359936714172), ('3D_seismic_surveys', 0.6245095133781433), ('Induced_Polarisation', 0.5990330576896667), ('magnetic_geophysical_surveys', 0.5973170399665833), ('2D_seismic_surveys', 0.5925806164741516), ('2D_seismic_data', 0.5907072424888611), ('dimensional_seismic', 0.5903823971748352), ('2D_seismic_survey', 0.5886841416358948), ('Triassic_reservoirs', 0.5885927677154541), ('resistivity_surveying', 0.5883316397666931), ('Induced_polarization', 0.5788235664367676), ('Troms_II', 0.5778045058250427), ('IP_Resistivity_survey', 0.5771072506904602), ('magnetometric', 0.5768870115280151), ('hydrocarbon_accumulations', 0.5732853412628174), ('hydrocarbon_reservoirs', 0.5716440081596375), ('inversion_modeling', 0.5712898373603821), ('resistivity_surveys', 0.5708590745925903), ('clastics', 0.5690212249755859), ('airborne_geophysical_surveying', 0.5667588710784912)]\n"
     ]
    }
   ],
   "source": [
    "seismics20 = model.most_similar('seismics', topn=20)\n",
    "print(seismics20)"
   ]
  },
  {
   "cell_type": "code",
   "execution_count": 33,
   "metadata": {},
   "outputs": [
    {
     "name": "stdout",
     "output_type": "stream",
     "text": [
      "[('Marine', 0.6242251396179199), ('maritime', 0.6203711628913879), ('marine_mammal', 0.5754626989364624), ('fisheries', 0.5674455165863037), ('WolfCamera.com', 0.5668076276779175), ('coral_reef', 0.5561709403991699), ('vessel_groundings', 0.5541455745697021), ('marine_mammals', 0.5497704744338989), ('marine_ecology', 0.5475793480873108), ('seafloor_habitats', 0.546345591545105), ('outdoors_Oropeza', 0.5436083674430847), ('Solitary_Islands', 0.540928304195404), ('coral_reefs', 0.5385051369667053), ('estuarine_environments', 0.5324240922927856), ('sealife', 0.5322803258895874), ('Coral_reef', 0.5311693549156189), ('oceanographic', 0.5296628475189209), ('reef', 0.5294116735458374), ('marine_ecosystem', 0.5272760391235352), ('aquatic', 0.5264464616775513)]\n"
     ]
    }
   ],
   "source": [
    "marine20 = model.most_similar('marine', topn=20)\n",
    "print(marine20)"
   ]
  },
  {
   "cell_type": "code",
   "execution_count": 34,
   "metadata": {},
   "outputs": [
    {
     "name": "stdout",
     "output_type": "stream",
     "text": [
      "[('geophysical', 0.7669209241867065), ('geophysical_surveys', 0.7063669562339783), ('geophysical_survey', 0.6881408095359802), ('geological_mapping', 0.681567907333374), ('geochemistry', 0.6715088486671448), ('geologic_mapping', 0.660940408706665), ('geochemical', 0.6556893587112427), ('Geophysics', 0.6484302282333374), ('airborne_geophysics', 0.6397951245307922), ('detailed_geological_mapping', 0.6332862973213196), ('electromagnetic_surveys', 0.629486620426178), ('geology', 0.6288837194442749), ('ground_geophysics', 0.6270310878753662), ('airborne_geophysical', 0.6247081160545349), ('resistivity_surveys', 0.6242082118988037), ('soil_geochemical_surveys', 0.6238856315612793), ('geochemical_surveys', 0.6229454278945923), ('geological', 0.6192871332168579), ('induced_polarization_survey', 0.6182624101638794), ('induced_polarization_IP', 0.6178503036499023)]\n"
     ]
    }
   ],
   "source": [
    "geophysics20 = model.most_similar('geophysics', topn=20)\n",
    "print(geophysics20)"
   ]
  },
  {
   "cell_type": "code",
   "execution_count": 35,
   "metadata": {},
   "outputs": [
    {
     "name": "stdout",
     "output_type": "stream",
     "text": [
      "[('paleontology', 0.681858479976654), ('paleontological', 0.6711058020591736), ('palaeontologists', 0.6687704920768738), ('paleoanthropology', 0.6517176628112793), ('palaeontologist', 0.629935085773468), ('palaeontological', 0.6189693808555603), ('archeology', 0.6171005368232727), ('archaeo', 0.6167727708816528), ('paleobiology', 0.6155399680137634), ('paleontologist', 0.6101419925689697), ('dinosaur_species', 0.6096305251121521), ('fossil', 0.6044783592224121), ('fossils', 0.5989787578582764), ('paleobotany', 0.5985449552536011), ('Gavin_Prideaux', 0.5946943163871765), ('ichthyosaur', 0.5933877229690552), ('Palaeontology', 0.5919387936592102), ('paleontologists', 0.5918149948120117), ('glacial_geology', 0.5835407972335815), ('vertebrate_paleontologist', 0.580851137638092)]\n"
     ]
    }
   ],
   "source": [
    "palaeontology20 = model.most_similar('palaeontology', topn=20)\n",
    "print(palaeontology20)"
   ]
  },
  {
   "cell_type": "code",
   "execution_count": null,
   "metadata": {},
   "outputs": [],
   "source": [
    "seismics20 = model.most_similar('seismics', topn=20)\n",
    "print(seismics20)"
   ]
  },
  {
   "cell_type": "code",
   "execution_count": null,
   "metadata": {},
   "outputs": [],
   "source": [
    "seismics20 = model.most_similar('seismics', topn=20)\n",
    "print(seismics20)"
   ]
  },
  {
   "cell_type": "code",
   "execution_count": 2,
   "metadata": {},
   "outputs": [
    {
     "name": "stdout",
     "output_type": "stream",
     "text": [
      "# packages in environment at C:\\ProgramData\\Anaconda3:\n",
      "#\n",
      "# Name                    Version                   Build  Channel\n",
      "_ipyw_jlab_nb_ext_conf    0.1.0                    py38_0  \n",
      "alabaster                 0.7.12                     py_0  \n",
      "anaconda                  2020.11                  py38_0  \n",
      "anaconda-client           1.7.2                    py38_0  \n",
      "anaconda-navigator        1.10.0                   py38_0  \n",
      "anaconda-project          0.8.4                      py_0  \n",
      "argh                      0.26.2                   py38_0  \n",
      "argon2-cffi               20.1.0           py38he774522_1  \n",
      "asn1crypto                1.4.0                      py_0  \n",
      "astroid                   2.4.2                    py38_0  \n",
      "astropy                   4.0.2            py38he774522_0  \n",
      "async_generator           1.10                       py_0  \n",
      "atomicwrites              1.4.0                      py_0  \n",
      "attrs                     20.3.0             pyhd3eb1b0_0  \n",
      "autopep8                  1.5.4                      py_0  \n",
      "babel                     2.8.1              pyhd3eb1b0_0  \n",
      "backcall                  0.2.0                      py_0  \n",
      "backports                 1.0                        py_2  \n",
      "backports.functools_lru_cache 1.6.1                      py_0  \n",
      "backports.shutil_get_terminal_size 1.0.0                    py38_2  \n",
      "backports.tempfile        1.0                        py_1  \n",
      "backports.weakref         1.0.post1                  py_1  \n",
      "bcrypt                    3.2.0            py38he774522_0  \n",
      "beautifulsoup4            4.9.3              pyhb0f4dca_0  \n",
      "bitarray                  1.6.1            py38h2bbff1b_0  \n",
      "bkcharts                  0.2                      py38_0  \n",
      "blas                      1.0                         mkl  \n",
      "bleach                    3.2.1                      py_0  \n",
      "blosc                     1.20.1               h7bd577a_0  \n",
      "bokeh                     2.2.3                    py38_0  \n",
      "boto                      2.49.0                   py38_0  \n",
      "bottleneck                1.3.2            py38h2a96729_1  \n",
      "brotlipy                  0.7.0           py38he774522_1000  \n",
      "bzip2                     1.0.8                he774522_0  \n",
      "ca-certificates           2020.10.14                    0  \n",
      "certifi                   2020.6.20          pyhd3eb1b0_3  \n",
      "cffi                      1.14.3           py38h7a1dbc1_0  \n",
      "chardet                   3.0.4                 py38_1003  \n",
      "click                     7.1.2                      py_0  \n",
      "cloudpickle               1.6.0                      py_0  \n",
      "clyent                    1.2.2                    py38_1  \n",
      "colorama                  0.4.4                      py_0  \n",
      "comtypes                  1.1.7                 py38_1001  \n",
      "conda                     4.9.2            py38haa95532_0  \n",
      "conda-build               3.20.5                   py38_1  \n",
      "conda-env                 2.6.0                         1  \n",
      "conda-package-handling    1.7.2            py38h76e460a_0  \n",
      "conda-verify              3.4.2                      py_1  \n",
      "console_shortcut          0.1.1                         4  \n",
      "contextlib2               0.6.0.post1                py_0  \n",
      "cryptography              3.1.1            py38h7a1dbc1_0  \n",
      "curl                      7.71.1               h2a8f88b_1  \n",
      "cycler                    0.10.0                   py38_0  \n",
      "cython                    0.29.21          py38ha925a31_0  \n",
      "cytoolz                   0.11.0           py38he774522_0  \n",
      "dask                      2.30.0                     py_0  \n",
      "dask-core                 2.30.0                     py_0  \n",
      "decorator                 4.4.2                      py_0  \n",
      "defusedxml                0.6.0                      py_0  \n",
      "diff-match-patch          20200713                   py_0  \n",
      "distributed               2.30.1           py38haa95532_0  \n",
      "docutils                  0.16                     py38_1  \n",
      "entrypoints               0.3                      py38_0  \n",
      "et_xmlfile                1.0.1                   py_1001  \n",
      "fastcache                 1.1.0            py38he774522_0  \n",
      "filelock                  3.0.12                     py_0  \n",
      "flake8                    3.8.4                      py_0  \n",
      "flask                     1.1.2                      py_0  \n",
      "freetype                  2.10.4               hd328e21_0  \n",
      "fsspec                    0.8.3                      py_0  \n",
      "future                    0.18.2                   py38_1  \n",
      "get_terminal_size         1.0.0                h38e98db_0  \n",
      "gevent                    20.9.0           py38he774522_0  \n",
      "glob2                     0.7                        py_0  \n",
      "greenlet                  0.4.17           py38he774522_0  \n",
      "h5py                      2.10.0           py38h5e291fa_0  \n",
      "hdf5                      1.10.4               h7ebc959_0  \n",
      "heapdict                  1.0.1                      py_0  \n",
      "html5lib                  1.1                        py_0  \n",
      "icc_rt                    2019.0.0             h0cc432a_1  \n",
      "icu                       58.2                 ha925a31_3  \n",
      "idna                      2.10                       py_0  \n",
      "imageio                   2.9.0                      py_0  \n",
      "imagesize                 1.2.0                      py_0  \n",
      "importlib-metadata        2.0.0                      py_1  \n",
      "importlib_metadata        2.0.0                         1  \n",
      "iniconfig                 1.1.1                      py_0  \n",
      "intel-openmp              2020.2                      254  \n",
      "intervaltree              3.1.0                      py_0  \n",
      "ipykernel                 5.3.4            py38h5ca1d4c_0  \n",
      "ipython                   7.19.0           py38hd4e2768_0  \n",
      "ipython_genutils          0.2.0                    py38_0  \n",
      "ipywidgets                7.5.1                      py_1  \n",
      "isort                     5.6.4                      py_0  \n",
      "itsdangerous              1.1.0                      py_0  \n",
      "jdcal                     1.4.1                      py_0  \n",
      "jedi                      0.17.1                   py38_0  \n",
      "jinja2                    2.11.2                     py_0  \n",
      "joblib                    0.17.0                     py_0  \n",
      "jpeg                      9b                   hb83a4c4_2  \n",
      "json5                     0.9.5                      py_0  \n",
      "jsonschema                3.2.0                      py_2  \n",
      "jupyter                   1.0.0                    py38_7  \n",
      "jupyter_client            6.1.7                      py_0  \n",
      "jupyter_console           6.2.0                      py_0  \n",
      "jupyter_core              4.6.3                    py38_0  \n",
      "jupyterlab                2.2.6                      py_0  \n",
      "jupyterlab_pygments       0.1.2                      py_0  \n",
      "jupyterlab_server         1.2.0                      py_0  \n",
      "keyring                   21.4.0                   py38_1  \n",
      "kiwisolver                1.3.0            py38hd77b12b_0  \n",
      "krb5                      1.18.2               hc04afaa_0  \n",
      "lazy-object-proxy         1.4.3            py38he774522_0  \n",
      "libarchive                3.4.2                h5e25573_0  \n",
      "libcurl                   7.71.1               h2a8f88b_1  \n",
      "libiconv                  1.15                 h1df5818_7  \n",
      "\n",
      "Note: you may need to restart the kernel to use updated packages.liblief                   0.10.1               ha925a31_0  \n",
      "libpng                    1.6.37               h2a8f88b_0  \n",
      "libsodium                 1.0.18               h62dcd97_0  \n",
      "libspatialindex           1.9.3                h33f27b4_0  \n",
      "libssh2                   1.9.0                h7a1dbc1_1  \n",
      "libtiff                   4.1.0                h56a325e_1  \n",
      "libxml2                   2.9.10               hb89e7f3_3  \n",
      "libxslt                   1.1.34               he774522_0  \n",
      "llvmlite                  0.34.0           py38h1a82afc_4  \n",
      "locket                    0.2.0                    py38_1  \n",
      "lxml                      4.6.1            py38h1350720_0  \n",
      "lz4-c                     1.9.2                hf4a77e7_3  \n",
      "lzo                       2.10                 he774522_2  \n",
      "m2w64-gcc-libgfortran     5.3.0                         6  \n",
      "m2w64-gcc-libs            5.3.0                         7  \n",
      "m2w64-gcc-libs-core       5.3.0                         7  \n",
      "m2w64-gmp                 6.1.0                         2  \n",
      "m2w64-libwinpthread-git   5.0.0.4634.697f757               2  \n",
      "markupsafe                1.1.1            py38he774522_0  \n",
      "matplotlib                3.3.2                         0  \n",
      "matplotlib-base           3.3.2            py38hba9282a_0  \n",
      "mccabe                    0.6.1                    py38_1  \n",
      "menuinst                  1.4.16           py38he774522_1  \n",
      "mistune                   0.8.4           py38he774522_1000  \n",
      "mkl                       2020.2                      256  \n",
      "mkl-service               2.3.0            py38hb782905_0  \n",
      "mkl_fft                   1.2.0            py38h45dec08_0  \n",
      "mkl_random                1.1.1            py38h47e9c7a_0  \n",
      "mock                      4.0.2                      py_0  \n",
      "more-itertools            8.6.0              pyhd3eb1b0_0  \n",
      "mpmath                    1.1.0                    py38_0  \n",
      "msgpack-python            1.0.0            py38h74a9793_1  \n",
      "msys2-conda-epoch         20160418                      1  \n",
      "multipledispatch          0.6.0                    py38_0  \n",
      "mysql-connector-python    8.0.25                   pypi_0    pypi\n",
      "navigator-updater         0.2.1                    py38_0  \n",
      "nbclient                  0.5.1                      py_0  \n",
      "nbconvert                 6.0.7                    py38_0  \n",
      "nbformat                  5.0.8                      py_0  \n",
      "nest-asyncio              1.4.2              pyhd3eb1b0_0  \n",
      "networkx                  2.5                        py_0  \n",
      "nltk                      3.5                        py_0  \n",
      "nose                      1.3.7                    py38_2  \n",
      "notebook                  6.1.4                    py38_0  \n",
      "numba                     0.51.2           py38hf9181ef_1  \n",
      "numexpr                   2.7.1            py38h25d0782_0  \n",
      "numpy                     1.19.2           py38hadc3359_0  \n",
      "numpy-base                1.19.2           py38ha3acd2a_0  \n",
      "\n"
     ]
    },
    {
     "name": "stdout",
     "output_type": "stream",
     "text": [
      "numpydoc                  1.1.0              pyhd3eb1b0_1  \n",
      "olefile                   0.46                       py_0  \n",
      "openpyxl                  3.0.5                      py_0  \n",
      "openssl                   1.1.1h               he774522_0  \n",
      "packaging                 20.4                       py_0  \n",
      "pandas                    1.1.3            py38ha925a31_0  \n",
      "pandoc                    2.11                 h9490d1a_0  \n",
      "pandocfilters             1.4.3            py38haa95532_1  \n",
      "paramiko                  2.7.2                      py_0  \n",
      "parso                     0.7.0                      py_0  \n",
      "partd                     1.1.0                      py_0  \n",
      "path                      15.0.0                   py38_0  \n",
      "path.py                   12.5.0                        0  \n",
      "pathlib2                  2.3.5                    py38_0  \n",
      "pathtools                 0.1.2                      py_1  \n",
      "patsy                     0.5.1                    py38_0  \n",
      "pep8                      1.7.1                    py38_0  \n",
      "pexpect                   4.8.0                    py38_0  \n",
      "pickleshare               0.7.5                 py38_1000  \n",
      "pillow                    8.0.1            py38h4fa10fc_0  \n",
      "pip                       20.2.4           py38haa95532_0  \n",
      "pkginfo                   1.6.1            py38haa95532_0  \n",
      "pluggy                    0.13.1                   py38_0  \n",
      "ply                       3.11                     py38_0  \n",
      "powershell_shortcut       0.0.1                         3  \n",
      "prometheus_client         0.8.0                      py_0  \n",
      "prompt-toolkit            3.0.8                      py_0  \n",
      "prompt_toolkit            3.0.8                         0  \n",
      "psutil                    5.7.2            py38he774522_0  \n",
      "py                        1.9.0                      py_0  \n",
      "py-lief                   0.10.1           py38ha925a31_0  \n",
      "pycodestyle               2.6.0                      py_0  \n",
      "pycosat                   0.6.3            py38he774522_0  \n",
      "pycparser                 2.20                       py_2  \n",
      "pycurl                    7.43.0.6         py38h7a1dbc1_0  \n",
      "pydocstyle                5.1.1                      py_0  \n",
      "pyflakes                  2.2.0                      py_0  \n",
      "pygments                  2.7.2              pyhd3eb1b0_0  \n",
      "pylint                    2.6.0                    py38_0  \n",
      "pynacl                    1.4.0            py38h62dcd97_1  \n",
      "pyodbc                    4.0.30           py38ha925a31_0  \n",
      "pyopenssl                 19.1.0                     py_1  \n",
      "pyparsing                 2.4.7                      py_0  \n",
      "pyqt                      5.9.2            py38ha925a31_4  \n",
      "pyreadline                2.1                      py38_1  \n",
      "pyrsistent                0.17.3           py38he774522_0  \n",
      "pysocks                   1.7.1                    py38_0  \n",
      "pytables                  3.6.1            py38ha5be198_0  \n",
      "pytest                    6.1.1                    py38_0  \n",
      "python                    3.8.5                h5fd99cc_1  \n",
      "python-dateutil           2.8.1                      py_0  \n",
      "python-jsonrpc-server     0.4.0                      py_0  \n",
      "python-language-server    0.35.1                     py_0  \n",
      "python-libarchive-c       2.9                        py_0  \n",
      "pytz                      2020.1                     py_0  \n",
      "pywavelets                1.1.1            py38he774522_2  \n",
      "pywin32                   227              py38he774522_1  \n",
      "pywin32-ctypes            0.2.0                 py38_1000  \n",
      "pywinpty                  0.5.7                    py38_0  \n",
      "pyyaml                    5.3.1            py38he774522_1  \n",
      "pyzmq                     19.0.2           py38ha925a31_1  \n",
      "qdarkstyle                2.8.1                      py_0  \n",
      "qt                        5.9.7            vc14h73c81de_0  \n",
      "qtawesome                 1.0.1                      py_0  \n",
      "qtconsole                 4.7.7                      py_0  \n",
      "qtpy                      1.9.0                      py_0  \n",
      "regex                     2020.10.15       py38he774522_0  \n",
      "requests                  2.24.0                     py_0  \n",
      "rope                      0.18.0                     py_0  \n",
      "rtree                     0.9.4            py38h21ff451_1  \n",
      "ruamel_yaml               0.15.87          py38he774522_1  \n",
      "scikit-image              0.17.2           py38h1e1f486_0  \n",
      "scikit-learn              0.23.2           py38h47e9c7a_0  \n",
      "scikit-plot               0.3.7                    pypi_0    pypi\n",
      "scipy                     1.5.2            py38h14eb087_0  \n",
      "seaborn                   0.11.0                     py_0  \n",
      "send2trash                1.5.0                    py38_0  \n",
      "setuptools                50.3.1           py38haa95532_1  \n",
      "simplegeneric             0.8.1                    py38_2  \n",
      "singledispatch            3.4.0.3                 py_1001  \n",
      "sip                       4.19.13          py38ha925a31_0  \n",
      "six                       1.15.0           py38haa95532_0  \n",
      "snowballstemmer           2.0.0                      py_0  \n",
      "sortedcollections         1.2.1                      py_0  \n",
      "sortedcontainers          2.2.2                      py_0  \n",
      "soupsieve                 2.0.1                      py_0  \n",
      "sphinx                    3.2.1                      py_0  \n",
      "sphinxcontrib             1.0                      py38_1  \n",
      "sphinxcontrib-applehelp   1.0.2                      py_0  \n",
      "sphinxcontrib-devhelp     1.0.2                      py_0  \n",
      "sphinxcontrib-htmlhelp    1.0.3                      py_0  \n",
      "sphinxcontrib-jsmath      1.0.1                      py_0  \n",
      "sphinxcontrib-qthelp      1.0.3                      py_0  \n",
      "sphinxcontrib-serializinghtml 1.1.4                      py_0  \n",
      "sphinxcontrib-websupport  1.2.4                      py_0  \n",
      "spyder                    4.1.5                    py38_0  \n",
      "spyder-kernels            1.9.4                    py38_0  \n",
      "sqlalchemy                1.3.20           py38h2bbff1b_0  \n",
      "sqlite                    3.33.0               h2a8f88b_0  \n",
      "statsmodels               0.12.0           py38he774522_0  \n",
      "sympy                     1.6.2            py38haa95532_1  \n",
      "tblib                     1.7.0                      py_0  \n",
      "terminado                 0.9.1                    py38_0  \n",
      "testpath                  0.4.4                      py_0  \n",
      "threadpoolctl             2.1.0              pyh5ca1d4c_0  \n",
      "tifffile                  2020.10.1        py38h8c2d366_2  \n",
      "tk                        8.6.10               he774522_0  \n",
      "toml                      0.10.1                     py_0  \n",
      "toolz                     0.11.1                     py_0  \n",
      "tornado                   6.0.4            py38he774522_1  \n",
      "tqdm                      4.50.2                     py_0  \n",
      "traitlets                 5.0.5                      py_0  \n",
      "typing_extensions         3.7.4.3                    py_0  \n",
      "ujson                     4.0.1            py38ha925a31_0  \n",
      "unicodecsv                0.14.1                   py38_0  \n",
      "urllib3                   1.25.11                    py_0  \n",
      "vc                        14.1                 h0510ff6_4  \n",
      "vs2015_runtime            14.16.27012          hf0eaf9b_3  \n",
      "watchdog                  0.10.3                   py38_0  \n",
      "wcwidth                   0.2.5                      py_0  \n",
      "webencodings              0.5.1                    py38_1  \n",
      "werkzeug                  1.0.1                      py_0  \n",
      "wheel                     0.35.1                     py_0  \n",
      "widgetsnbextension        3.5.1                    py38_0  \n",
      "win_inet_pton             1.1.0                    py38_0  \n",
      "win_unicode_console       0.5                      py38_0  \n",
      "wincertstore              0.2                      py38_0  \n",
      "winpty                    0.4.3                         4  \n",
      "wrapt                     1.11.2           py38he774522_0  \n",
      "xgboost                   1.4.1                    pypi_0    pypi\n",
      "xlrd                      1.2.0                      py_0  \n",
      "xlsxwriter                1.3.7                      py_0  \n",
      "xlwings                   0.20.8                   py38_0  \n",
      "xlwt                      1.3.0                    py38_0  \n",
      "xmltodict                 0.12.0                     py_0  \n",
      "xz                        5.2.5                h62dcd97_0  \n",
      "yaml                      0.2.5                he774522_0  \n",
      "yapf                      0.30.0                     py_0  \n",
      "zeromq                    4.3.2                ha925a31_3  \n",
      "zict                      2.0.0                      py_0  \n",
      "zipp                      3.4.0              pyhd3eb1b0_0  \n",
      "zlib                      1.2.11               h62dcd97_4  \n",
      "zope                      1.0                      py38_1  \n",
      "zope.event                4.5.0                    py38_0  \n",
      "zope.interface            5.1.2            py38he774522_0  \n",
      "zstd                      1.4.5                h04227a9_0  \n"
     ]
    }
   ],
   "source": [
    "conda list"
   ]
  },
  {
   "cell_type": "code",
   "execution_count": 4,
   "metadata": {},
   "outputs": [],
   "source": [
    "import gensim\n",
    "from gensim.models import Word2Vec"
   ]
  },
  {
   "cell_type": "code",
   "execution_count": 5,
   "metadata": {},
   "outputs": [],
   "source": [
    "# Reads ‘Gravity_DBpedia.txt’ file\n",
    "sample = open(\"Gravity_DBpedia.txt\", \"r\")\n",
    "s = sample.read()"
   ]
  },
  {
   "cell_type": "code",
   "execution_count": 6,
   "metadata": {},
   "outputs": [],
   "source": [
    "# Replaces escape character with space\n",
    "f = s.replace(\"\\n\", \" \")"
   ]
  },
  {
   "cell_type": "code",
   "execution_count": 14,
   "metadata": {},
   "outputs": [],
   "source": [
    "# define a function for removing unnecessary/special characters and return a lower case plain texts/ Monir\n",
    "def word_drop(text):\n",
    "    text = text.lower()\n",
    "    text = re.sub('\\[.*?\\]', '', text)\n",
    "    text = re.sub(\"\\\\W\", \" \", text)\n",
    "    text = re.sub('https?://\\S+ |www\\.\\S+', '', text)\n",
    "    text = re.sub('<.*?>', '', text)\n",
    "    text = re.sub('[%s]' % re.escape(string.punctuation), '', text)\n",
    "    text = re.sub('\\n', '', text)\n",
    "    text = re.sub('\\w*\\d\\w*', '', text)\n",
    "    return text"
   ]
  },
  {
   "cell_type": "code",
   "execution_count": 15,
   "metadata": {},
   "outputs": [],
   "source": [
    "f=word_drop(f)"
   ]
  },
  {
   "cell_type": "code",
   "execution_count": 18,
   "metadata": {},
   "outputs": [],
   "source": [
    "# Replaces escape character with space\n",
    "f = s.replace(\"\\n\", \" \")"
   ]
  },
  {
   "cell_type": "code",
   "execution_count": 19,
   "metadata": {},
   "outputs": [
    {
     "name": "stdout",
     "output_type": "stream",
     "text": [
      "\t Gravity (from Latin gravitas, meaning 'weight'), or gravitation, is a natural phenomenon by which all things with mass or energyâ€”including planets, stars, galaxies, and even lightâ€”are brought toward (or gravitate toward) one another. On Earth, gravity gives weight to physical objects, and the Moon's gravity causes the ocean tides. The gravitational attraction of the original gaseous matter present in the Universe caused it to begin coalescing and forming stars and caused the stars to group together into galaxies, so gravity is responsible for many of the large-scale structures in the Universe. Gravity has an infinite range, although its effects become increasingly weaker as objects get further away. Gravity is most accurately described by the general theory of relativity (proposed by Albert Einstein in 1915), which describes gravity not as a force, but as a consequence of the curvature of spacetime caused by the uneven distribution of mass. The most extreme example of this curvature of spacetime is a black hole, from which nothingâ€”not even lightâ€”can escape once past the black hole's event horizon. However, for most applications, gravity is well approximated by Newton's law of universal gravitation, which describes gravity as a force, which causes any two bodies to be attracted to each other, with the force proportional to the product of their masses and inversely proportional to the square of the distance between them. Gravity is the weakest of the four fundamental interactions of physics, approximately 1038 times weaker than the strong interaction, 1036 times weaker than the electromagnetic force and 1029 times weaker than the weak interaction. As a consequence, it has no significant influence at the level of subatomic particles. In contrast, it is the dominant interaction at the macroscopic scale, and is the cause of the formation, shape and trajectory (orbit) of astronomical bodies. The earliest instance of gravity in the Universe, possibly in the form of quantum gravity, supergravity or a gravitational singularity, along with ordinary space and time, developed during the Planck epoch (up to 10âˆ’43 seconds after the birth of the Universe), possibly from a primeval state, such as a false vacuum, quantum vacuum or virtual particle, in a currently unknown manner. Attempts to develop a theory of gravity consistent with quantum mechanics, a quantum gravity theory, which would allow gravity to be united in a common mathematical framework (a theory of everything) with the other three fundamental interactions of physics, are a current area of research.\n"
     ]
    }
   ],
   "source": [
    "print(f)"
   ]
  },
  {
   "cell_type": "code",
   "execution_count": 20,
   "metadata": {},
   "outputs": [],
   "source": [
    "f=word_drop(f)"
   ]
  },
  {
   "cell_type": "code",
   "execution_count": 21,
   "metadata": {},
   "outputs": [
    {
     "name": "stdout",
     "output_type": "stream",
     "text": [
      "  gravity  from latin gravitas  meaning  weight    or gravitation  is a natural phenomenon by which all things with mass or energyâ  including planets  stars  galaxies  and even lightâ  are brought toward  or gravitate toward  one another  on earth  gravity gives weight to physical objects  and the moon s gravity causes the ocean tides  the gravitational attraction of the original gaseous matter present in the universe caused it to begin coalescing and forming stars and caused the stars to group together into galaxies  so gravity is responsible for many of the large scale structures in the universe  gravity has an infinite range  although its effects become increasingly weaker as objects get further away  gravity is most accurately described by the general theory of relativity  proposed by albert einstein in    which describes gravity not as a force  but as a consequence of the curvature of spacetime caused by the uneven distribution of mass  the most extreme example of this curvature of spacetime is a black hole  from which nothingâ  not even lightâ  can escape once past the black hole s event horizon  however  for most applications  gravity is well approximated by newton s law of universal gravitation  which describes gravity as a force  which causes any two bodies to be attracted to each other  with the force proportional to the product of their masses and inversely proportional to the square of the distance between them  gravity is the weakest of the four fundamental interactions of physics  approximately  times weaker than the strong interaction   times weaker than the electromagnetic force and  times weaker than the weak interaction  as a consequence  it has no significant influence at the level of subatomic particles  in contrast  it is the dominant interaction at the macroscopic scale  and is the cause of the formation  shape and trajectory  orbit  of astronomical bodies  the earliest instance of gravity in the universe  possibly in the form of quantum gravity  supergravity or a gravitational singularity  along with ordinary space and time  developed during the planck epoch  up to   seconds after the birth of the universe   possibly from a primeval state  such as a false vacuum  quantum vacuum or virtual particle  in a currently unknown manner  attempts to develop a theory of gravity consistent with quantum mechanics  a quantum gravity theory  which would allow gravity to be united in a common mathematical framework  a theory of everything  with the other three fundamental interactions of physics  are a current area of research \n"
     ]
    }
   ],
   "source": [
    "print(f)"
   ]
  },
  {
   "cell_type": "code",
   "execution_count": 22,
   "metadata": {},
   "outputs": [],
   "source": [
    "# Replaces escape character with space\n",
    "f = f.replace(\"\\n\", \" \")"
   ]
  },
  {
   "cell_type": "code",
   "execution_count": 23,
   "metadata": {},
   "outputs": [
    {
     "name": "stdout",
     "output_type": "stream",
     "text": [
      "  gravity  from latin gravitas  meaning  weight    or gravitation  is a natural phenomenon by which all things with mass or energyâ  including planets  stars  galaxies  and even lightâ  are brought toward  or gravitate toward  one another  on earth  gravity gives weight to physical objects  and the moon s gravity causes the ocean tides  the gravitational attraction of the original gaseous matter present in the universe caused it to begin coalescing and forming stars and caused the stars to group together into galaxies  so gravity is responsible for many of the large scale structures in the universe  gravity has an infinite range  although its effects become increasingly weaker as objects get further away  gravity is most accurately described by the general theory of relativity  proposed by albert einstein in    which describes gravity not as a force  but as a consequence of the curvature of spacetime caused by the uneven distribution of mass  the most extreme example of this curvature of spacetime is a black hole  from which nothingâ  not even lightâ  can escape once past the black hole s event horizon  however  for most applications  gravity is well approximated by newton s law of universal gravitation  which describes gravity as a force  which causes any two bodies to be attracted to each other  with the force proportional to the product of their masses and inversely proportional to the square of the distance between them  gravity is the weakest of the four fundamental interactions of physics  approximately  times weaker than the strong interaction   times weaker than the electromagnetic force and  times weaker than the weak interaction  as a consequence  it has no significant influence at the level of subatomic particles  in contrast  it is the dominant interaction at the macroscopic scale  and is the cause of the formation  shape and trajectory  orbit  of astronomical bodies  the earliest instance of gravity in the universe  possibly in the form of quantum gravity  supergravity or a gravitational singularity  along with ordinary space and time  developed during the planck epoch  up to   seconds after the birth of the universe   possibly from a primeval state  such as a false vacuum  quantum vacuum or virtual particle  in a currently unknown manner  attempts to develop a theory of gravity consistent with quantum mechanics  a quantum gravity theory  which would allow gravity to be united in a common mathematical framework  a theory of everything  with the other three fundamental interactions of physics  are a current area of research \n"
     ]
    }
   ],
   "source": [
    "print(f)"
   ]
  },
  {
   "cell_type": "code",
   "execution_count": 26,
   "metadata": {},
   "outputs": [],
   "source": [
    "data = []\n",
    "\n",
    "# iterate through each sentence in the file\n",
    "for i in sent_tokenize(f):\n",
    "\ttemp = []\n",
    "\t\n",
    "\t# tokenize the sentence into words\n",
    "\tfor j in word_tokenize(i):\n",
    "\t\ttemp.append(j.lower())\n",
    "\n",
    "\tdata.append(temp)"
   ]
  },
  {
   "cell_type": "code",
   "execution_count": 55,
   "metadata": {},
   "outputs": [],
   "source": [
    "# Create CBOW model\n",
    "model1 = gensim.models.Word2Vec(data, min_count = 1, vector_size = 10000, window = 10)"
   ]
  },
  {
   "cell_type": "code",
   "execution_count": 44,
   "metadata": {},
   "outputs": [],
   "source": [
    "gravity5 = model1.wv.most_similar('gravity', topn=10)"
   ]
  },
  {
   "cell_type": "code",
   "execution_count": 38,
   "metadata": {},
   "outputs": [
    {
     "name": "stdout",
     "output_type": "stream",
     "text": [
      "[('interactions', 0.10696141421794891), ('planets', 0.08141573518514633), ('event', 0.08050822466611862), ('uneven', 0.07791654020547867), ('vacuum', 0.07172977179288864), ('trajectory', 0.06970641762018204), ('law', 0.06910388916730881), ('to', 0.06430227309465408), ('fundamental', 0.0642101839184761), ('attracted', 0.060861315578222275)]\n"
     ]
    }
   ],
   "source": [
    "print(gravity5) # vector_size = 1000"
   ]
  },
  {
   "cell_type": "code",
   "execution_count": 42,
   "metadata": {},
   "outputs": [
    {
     "name": "stdout",
     "output_type": "stream",
     "text": [
      "[('well', 0.2720769941806793), ('square', 0.25730565190315247), ('significant', 0.2225155383348465), ('once', 0.21396826207637787), ('state', 0.20561328530311584), ('earth', 0.1849646419286728), ('quantum', 0.17511285841464996), ('such', 0.16950497031211853), ('away', 0.16838641464710236), ('spacetime', 0.1592804342508316)]\n"
     ]
    }
   ],
   "source": [
    "print(gravity5)  # vector_size = 100"
   ]
  },
  {
   "cell_type": "code",
   "execution_count": 45,
   "metadata": {},
   "outputs": [
    {
     "name": "stdout",
     "output_type": "stream",
     "text": [
      "[('applications', 0.23876863718032837), ('as', 0.19664570689201355), ('quantum', 0.17695172131061554), ('two', 0.17087824642658234), ('phenomenon', 0.16375721991062164), ('which', 0.15430200099945068), ('trajectory', 0.15421442687511444), ('einstein', 0.14909546077251434), ('united', 0.1313820481300354), ('physical', 0.1305292546749115)]\n"
     ]
    }
   ],
   "source": [
    "print(gravity5)  # vector_size = 200"
   ]
  },
  {
   "cell_type": "code",
   "execution_count": 56,
   "metadata": {},
   "outputs": [],
   "source": [
    "gravity5 = model1.wv.most_similar('gravity', topn=10)"
   ]
  },
  {
   "cell_type": "code",
   "execution_count": 57,
   "metadata": {},
   "outputs": [
    {
     "name": "stdout",
     "output_type": "stream",
     "text": [
      "[('at', 0.03171991929411888), ('level', 0.030950672924518585), ('for', 0.028673235327005386), ('moon', 0.028581518679857254), ('newton', 0.02717602252960205), ('nothingâ', 0.026849966496229172), ('of', 0.026780148968100548), ('which', 0.026612592861056328), ('united', 0.02502264454960823), ('phenomenon', 0.024573830887675285)]\n"
     ]
    }
   ],
   "source": [
    "print(gravity5)  # vector_size = 10000 , window = 10"
   ]
  },
  {
   "cell_type": "code",
   "execution_count": 39,
   "metadata": {},
   "outputs": [
    {
     "name": "stdout",
     "output_type": "stream",
     "text": [
      "Cosine similarity between 'planets' and 'gravitation' - CBOW :  0.08141575\n"
     ]
    }
   ],
   "source": [
    "# Print results\n",
    "print(\"Cosine similarity between 'planets' \" +\n",
    "\t\t\t\"and 'gravitation' - CBOW : \",\n",
    "\tmodel1.wv.similarity('gravity', 'planets'))\n",
    "\t\n",
    "#model1.similarity"
   ]
  },
  {
   "cell_type": "code",
   "execution_count": 49,
   "metadata": {},
   "outputs": [
    {
     "name": "stdout",
     "output_type": "stream",
     "text": [
      "0.02077668\n"
     ]
    }
   ],
   "source": [
    "print(model1.wv.similarity('gravity', 'gravitation'))"
   ]
  },
  {
   "cell_type": "code",
   "execution_count": 50,
   "metadata": {},
   "outputs": [
    {
     "name": "stdout",
     "output_type": "stream",
     "text": [
      "-0.08402554\n"
     ]
    }
   ],
   "source": [
    "print(model1.wv.similarity('gravity', 'planets'))"
   ]
  },
  {
   "cell_type": "code",
   "execution_count": 51,
   "metadata": {},
   "outputs": [
    {
     "name": "stdout",
     "output_type": "stream",
     "text": [
      "0.2387686\n"
     ]
    }
   ],
   "source": [
    "print(model1.wv.similarity('gravity', 'applications'))"
   ]
  },
  {
   "cell_type": "code",
   "execution_count": 48,
   "metadata": {},
   "outputs": [
    {
     "ename": "TypeError",
     "evalue": "'Word2Vec' object is not subscriptable",
     "output_type": "error",
     "traceback": [
      "\u001b[1;31m---------------------------------------------------------------------------\u001b[0m",
      "\u001b[1;31mTypeError\u001b[0m                                 Traceback (most recent call last)",
      "\u001b[1;32m<ipython-input-48-85fbbe137553>\u001b[0m in \u001b[0;36m<module>\u001b[1;34m\u001b[0m\n\u001b[1;32m----> 1\u001b[1;33m \u001b[0mcosine_similarity\u001b[0m \u001b[1;33m=\u001b[0m \u001b[0mnumpy\u001b[0m\u001b[1;33m.\u001b[0m\u001b[0mdot\u001b[0m\u001b[1;33m(\u001b[0m\u001b[0mmodel1\u001b[0m\u001b[1;33m[\u001b[0m\u001b[1;34m'gravity'\u001b[0m\u001b[1;33m]\u001b[0m\u001b[1;33m,\u001b[0m \u001b[0mmodel1\u001b[0m\u001b[1;33m[\u001b[0m\u001b[1;34m'gravitation'\u001b[0m\u001b[1;33m]\u001b[0m\u001b[1;33m)\u001b[0m\u001b[1;33m/\u001b[0m\u001b[1;33m(\u001b[0m\u001b[0mnumpy\u001b[0m\u001b[1;33m.\u001b[0m\u001b[0mlinalg\u001b[0m\u001b[1;33m.\u001b[0m\u001b[0mnorm\u001b[0m\u001b[1;33m(\u001b[0m\u001b[0mmodel1\u001b[0m\u001b[1;33m[\u001b[0m\u001b[1;34m'gravity'\u001b[0m\u001b[1;33m]\u001b[0m\u001b[1;33m)\u001b[0m\u001b[1;33m*\u001b[0m \u001b[0mnumpy\u001b[0m\u001b[1;33m.\u001b[0m\u001b[0mlinalg\u001b[0m\u001b[1;33m.\u001b[0m\u001b[0mnorm\u001b[0m\u001b[1;33m(\u001b[0m\u001b[0mmodel1\u001b[0m\u001b[1;33m[\u001b[0m\u001b[1;34m'gravitation'\u001b[0m\u001b[1;33m]\u001b[0m\u001b[1;33m)\u001b[0m\u001b[1;33m)\u001b[0m\u001b[1;33m\u001b[0m\u001b[1;33m\u001b[0m\u001b[0m\n\u001b[0m",
      "\u001b[1;31mTypeError\u001b[0m: 'Word2Vec' object is not subscriptable"
     ]
    }
   ],
   "source": [
    "cosine_similarity = numpy.dot(model1['gravity'], model1['gravitation'])/(numpy.linalg.norm(model1['gravity'])* numpy.linalg.norm(model1['gravitation']))"
   ]
  },
  {
   "cell_type": "code",
   "execution_count": null,
   "metadata": {},
   "outputs": [],
   "source": [
    "\n",
    "    print(\"Cosine similarity between 'alice' \" +\n",
    "\t\t\t\t\"and 'gravitation' - CBOW : \",\n",
    "\tmodel1.similarity('alice', 'gravitation'))\n",
    "\n",
    "# Create Skip Gram model\n",
    "model2 = gensim.models.Word2Vec(data, min_count = 1, size = 100,\n",
    "\t\t\t\t\t\t\t\t\t\t\twindow = 5, sg = 1)\n",
    "\n",
    "# Print results\n",
    "print(\"Cosine similarity between 'alice' \" +\n",
    "\t\t\"and 'wonderland' - Skip Gram : \",\n",
    "\tmodel2.similarity('alice', 'wonderland'))\n",
    "\t\n",
    "print(\"Cosine similarity between 'alice' \" +\n",
    "\t\t\t\"and 'machines' - Skip Gram : \",\n",
    "\tmodel2.similarity('alice', 'machines'))\n"
   ]
  }
 ],
 "metadata": {
  "kernelspec": {
   "display_name": "Python 3",
   "language": "python",
   "name": "python3"
  },
  "language_info": {
   "codemirror_mode": {
    "name": "ipython",
    "version": 3
   },
   "file_extension": ".py",
   "mimetype": "text/x-python",
   "name": "python",
   "nbconvert_exporter": "python",
   "pygments_lexer": "ipython3",
   "version": "3.8.5"
  }
 },
 "nbformat": 4,
 "nbformat_minor": 4
}
