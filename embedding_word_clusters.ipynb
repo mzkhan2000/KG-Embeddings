{
  "nbformat": 4,
  "nbformat_minor": 0,
  "metadata": {
    "colab": {
      "name": "embedding_word_clusters.ipynb",
      "provenance": [],
      "authorship_tag": "ABX9TyMN3nIlg5dtmNXPX00jVLa4",
      "include_colab_link": true
    },
    "kernelspec": {
      "name": "python3",
      "display_name": "Python 3"
    },
    "language_info": {
      "name": "python"
    }
  },
  "cells": [
    {
      "cell_type": "markdown",
      "metadata": {
        "id": "view-in-github",
        "colab_type": "text"
      },
      "source": [
        "<a href=\"https://colab.research.google.com/github/mzkhan2000/KG-Embeddings/blob/main/embedding_word_clusters.ipynb\" target=\"_parent\"><img src=\"https://colab.research.google.com/assets/colab-badge.svg\" alt=\"Open In Colab\"/></a>"
      ]
    },
    {
      "cell_type": "code",
      "metadata": {
        "colab": {
          "base_uri": "https://localhost:8080/"
        },
        "id": "mrst7735xXTg",
        "outputId": "a90dffce-ea00-4e34-8be0-b2b5064180b5"
      },
      "source": [
        "# Python program to generate embedding (word vectors) using Word2Vec\n",
        "\n",
        "# importing necessary modules for embedding\n",
        "!pip install --upgrade gensim"
      ],
      "execution_count": 1,
      "outputs": [
        {
          "output_type": "stream",
          "name": "stdout",
          "text": [
            "Requirement already satisfied: gensim in /usr/local/lib/python3.7/dist-packages (3.6.0)\n",
            "Collecting gensim\n",
            "  Downloading gensim-4.1.0-cp37-cp37m-manylinux_2_12_x86_64.manylinux2010_x86_64.whl (24.0 MB)\n",
            "\u001b[K     |████████████████████████████████| 24.0 MB 80 kB/s \n",
            "\u001b[?25hRequirement already satisfied: scipy>=0.18.1 in /usr/local/lib/python3.7/dist-packages (from gensim) (1.4.1)\n",
            "Requirement already satisfied: numpy>=1.17.0 in /usr/local/lib/python3.7/dist-packages (from gensim) (1.19.5)\n",
            "Requirement already satisfied: smart-open>=1.8.1 in /usr/local/lib/python3.7/dist-packages (from gensim) (5.1.0)\n",
            "Installing collected packages: gensim\n",
            "  Attempting uninstall: gensim\n",
            "    Found existing installation: gensim 3.6.0\n",
            "    Uninstalling gensim-3.6.0:\n",
            "      Successfully uninstalled gensim-3.6.0\n",
            "Successfully installed gensim-4.1.0\n"
          ]
        }
      ]
    },
    {
      "cell_type": "code",
      "metadata": {
        "colab": {
          "base_uri": "https://localhost:8080/"
        },
        "id": "kcB9L1bbxnWZ",
        "outputId": "eca66919-3c65-449b-9384-8244c370cc78"
      },
      "source": [
        "!pip uninstall numpy"
      ],
      "execution_count": 3,
      "outputs": [
        {
          "output_type": "stream",
          "name": "stdout",
          "text": [
            "Found existing installation: numpy 1.19.5\n",
            "Uninstalling numpy-1.19.5:\n",
            "  Would remove:\n",
            "    /usr/bin/f2py\n",
            "    /usr/local/bin/f2py\n",
            "    /usr/local/bin/f2py3\n",
            "    /usr/local/bin/f2py3.7\n",
            "    /usr/local/lib/python3.7/dist-packages/numpy-1.19.5.dist-info/*\n",
            "    /usr/local/lib/python3.7/dist-packages/numpy.libs/libgfortran-2e0d59d6.so.5.0.0\n",
            "    /usr/local/lib/python3.7/dist-packages/numpy.libs/libopenblasp-r0-09e95953.3.13.so\n",
            "    /usr/local/lib/python3.7/dist-packages/numpy.libs/libquadmath-2d0c479f.so.0.0.0\n",
            "    /usr/local/lib/python3.7/dist-packages/numpy.libs/libz-eb09ad1d.so.1.2.3\n",
            "    /usr/local/lib/python3.7/dist-packages/numpy/*\n",
            "Proceed (y/n)? y\n",
            "  Successfully uninstalled numpy-1.19.5\n"
          ]
        }
      ]
    },
    {
      "cell_type": "code",
      "metadata": {
        "colab": {
          "base_uri": "https://localhost:8080/",
          "height": 255
        },
        "id": "mU_5F-ImxuDp",
        "outputId": "5b020b02-d0b2-4d50-8b00-b7c2e0b34dc4"
      },
      "source": [
        "!pip install numpy"
      ],
      "execution_count": 4,
      "outputs": [
        {
          "output_type": "stream",
          "name": "stdout",
          "text": [
            "Collecting numpy\n",
            "  Downloading numpy-1.21.2-cp37-cp37m-manylinux_2_12_x86_64.manylinux2010_x86_64.whl (15.7 MB)\n",
            "\u001b[K     |████████████████████████████████| 15.7 MB 178 kB/s \n",
            "\u001b[?25hInstalling collected packages: numpy\n",
            "\u001b[31mERROR: pip's dependency resolver does not currently take into account all the packages that are installed. This behaviour is the source of the following dependency conflicts.\n",
            "tensorflow 2.6.0 requires numpy~=1.19.2, but you have numpy 1.21.2 which is incompatible.\n",
            "datascience 0.10.6 requires folium==0.2.1, but you have folium 0.8.3 which is incompatible.\n",
            "albumentations 0.1.12 requires imgaug<0.2.7,>=0.2.5, but you have imgaug 0.2.9 which is incompatible.\u001b[0m\n",
            "Successfully installed numpy-1.21.2\n"
          ]
        },
        {
          "output_type": "display_data",
          "data": {
            "application/vnd.colab-display-data+json": {
              "pip_warning": {
                "packages": [
                  "numpy"
                ]
              }
            }
          },
          "metadata": {}
        }
      ]
    },
    {
      "cell_type": "code",
      "metadata": {
        "id": "NC48us6exlfb"
      },
      "source": [
        "# pip install numpy and then hit the RESTART RUNTIME\n",
        "import gensim\n",
        "from gensim.models import Word2Vec\n",
        "from gensim.models import KeyedVectors\n",
        "from gensim.scripts.glove2word2vec import glove2word2vec\n",
        "\n",
        "import collections\n",
        "from collections import Counter"
      ],
      "execution_count": 9,
      "outputs": []
    },
    {
      "cell_type": "code",
      "metadata": {
        "colab": {
          "base_uri": "https://localhost:8080/"
        },
        "id": "JiZHHL0yx_K4",
        "outputId": "6fc135c1-507d-4a72-b922-c092a20cd392"
      },
      "source": [
        "from google.colab import drive\n",
        "drive.mount('/content/drive')"
      ],
      "execution_count": 2,
      "outputs": [
        {
          "output_type": "stream",
          "name": "stdout",
          "text": [
            "Mounted at /content/drive\n"
          ]
        }
      ]
    },
    {
      "cell_type": "code",
      "metadata": {
        "colab": {
          "base_uri": "https://localhost:8080/"
        },
        "id": "qT11e9owyCdA",
        "outputId": "0e150284-2189-4a08-d795-b9f069c0214b"
      },
      "source": [
        "# check out if google dride mount suceessful \n",
        "!ls \"/content/drive/My Drive/MonirResearchDatasets\""
      ],
      "execution_count": 3,
      "outputs": [
        {
          "output_type": "stream",
          "name": "stdout",
          "text": [
            "all1k.ttl.txt\n",
            "Freebase-GoogleNews-vectors.bin\n",
            "freebase-vectors-skipgram1000-en.bin\n",
            "Glove-6B\n",
            "google_benchmark_data_embeddings_evaluation\n",
            "google_benchmark_data_embeddings_evaluation_update\n",
            "google-question-words.txt\n",
            "Gravity_DBpedia.txt\n",
            "surround-ga-records\n"
          ]
        }
      ]
    },
    {
      "cell_type": "code",
      "metadata": {
        "id": "_OtWIZy-yR0w"
      },
      "source": [
        "# a funtion for ga-themes extraction from GA-rdf repository separate and return a list all the ga-themes - Monir\n",
        "def gaThemesExtraction(ga_record):\n",
        "  gaThemes = []\n",
        "  with open(ga_record, 'rt') as f:\n",
        "    data = f.readlines()\n",
        "  for line in data:\n",
        "      # check if line contains \"ga-themes\" sub-string\n",
        "      if line.__contains__('ga-themes'):\n",
        "          # split the line contains from \"ga-themes\" sub-string\n",
        "          stringTemp = line.split(\"ga-themes/\",1)[1]\n",
        "          # further split the line contains from \"ga-themes\" sub-string to delimiter\n",
        "          stringTemp = stringTemp.split('>')[0]\n",
        "          gaThemes.append(stringTemp)\n",
        "  #print(dataLog)\n",
        "  #print(gaThemes[:9])\n",
        "  #print(len(gaThemes))\n",
        "  return gaThemes"
      ],
      "execution_count": 5,
      "outputs": []
    },
    {
      "cell_type": "code",
      "metadata": {
        "id": "U3xCUlmIyimn"
      },
      "source": [
        "# a funtion imput a list of ga-themes and return a list of unique ga-themes and another list of duplicate gaThemes - \n",
        "def make_unique_gaThemes(list_all_ga_themes):\n",
        "  # find a a list of unique ga-themes\n",
        "  unique_gaThemes = []\n",
        "  unique_gaThemes = list(dict.fromkeys(gaThemes))\n",
        "  #print(len(unique_gaThemes))\n",
        "\n",
        "  # a list of duplicate gaThemes\n",
        "  duplicate_gaThemes = []\n",
        "  duplicate_gaThemes = [item for item, count in collections.Counter(gaThemes).items() if count > 1]\n",
        "  #print(len(duplicate_gaThemes))\n",
        "\n",
        "  return unique_gaThemes, duplicate_gaThemes"
      ],
      "execution_count": 6,
      "outputs": []
    },
    {
      "cell_type": "code",
      "metadata": {
        "id": "A0YbdGC5zu_m"
      },
      "source": [
        "## KG-Embeddings\n",
        "filename = '/content/drive/My Drive/MonirResearchDatasets/Freebase-GoogleNews-vectors.bin'\n",
        "model = KeyedVectors.load_word2vec_format(filename, binary=True)"
      ],
      "execution_count": 11,
      "outputs": []
    },
    {
      "cell_type": "code",
      "metadata": {
        "id": "Pyyd34KSyOkA"
      },
      "source": [
        "def embedding_word_clusters(model, list_of_ga_themes, cluster_size):\n",
        "    keys = list_of_ga_themes\n",
        "    embedding_model = model\n",
        "    n = cluster_size\n",
        "    new_classifier = []\n",
        "    embedding_clusters = []\n",
        "    classifier_clusters = []\n",
        "    for word in keys:\n",
        "        embeddings = []\n",
        "        words = []\n",
        "        # check if a word is fully \"OOV\" (out of vocabulary) for pre-trained embedding model\n",
        "        if word in embedding_model.key_to_index:\n",
        "            # create a new list of classifier\n",
        "            new_classifier.append(word)\n",
        "            # find most similar top n words from the pre-trained embedding model\n",
        "            for similar_word, _ in embedding_model.most_similar(word, topn=n):\n",
        "                words.append(similar_word)\n",
        "                embeddings.append(embedding_model[similar_word])\n",
        "        embedding_clusters.append(embeddings)\n",
        "        classifier_clusters.append(words)\n",
        "\n",
        "    return embedding_clusters, classifier_clusters, new_classifier"
      ],
      "execution_count": 4,
      "outputs": []
    },
    {
      "cell_type": "code",
      "metadata": {
        "colab": {
          "base_uri": "https://localhost:8080/"
        },
        "id": "h0jywOZNy0Sn",
        "outputId": "f2e00c55-c36a-4df2-e83a-bdace9cedf43"
      },
      "source": [
        "# to get all the ga-themes from all1K file \n",
        "ga_record_datapath = \"/content/drive/My Drive/MonirResearchDatasets/surround-ga-records/all1k.ttl.txt\"\n",
        "gaThemes = gaThemesExtraction(ga_record_datapath)\n",
        "print(gaThemes[:10])\n",
        "print(len(gaThemes))"
      ],
      "execution_count": 7,
      "outputs": [
        {
          "output_type": "stream",
          "name": "stdout",
          "text": [
            "['palaeontology', 'geophysics', 'palaeontology', 'geophysics', 'palaeontology', 'stratigraphy', 'palaeontology', 'earthquakes', 'palaeontology', 'palaeontology']\n",
            "1204\n"
          ]
        }
      ]
    },
    {
      "cell_type": "code",
      "metadata": {
        "colab": {
          "base_uri": "https://localhost:8080/"
        },
        "id": "wKPgoN5Iy9G_",
        "outputId": "7f002e86-cadd-46c4-af93-3858c851b04b"
      },
      "source": [
        "# to get all unique ga-themes\n",
        "unique_gaThemes, duplicate_gaThemes = make_unique_gaThemes(gaThemes)\n",
        "print(unique_gaThemes[:100])\n",
        "#print(duplicate_gaThemes[:100])\n",
        "print(len(unique_gaThemes))"
      ],
      "execution_count": 10,
      "outputs": [
        {
          "output_type": "stream",
          "name": "stdout",
          "text": [
            "['palaeontology', 'geophysics', 'stratigraphy', 'earthquakes', 'geomagnetism', 'seismics', 'volcanology', 'groundwater', 'gravity', 'marine', 'magnetics', 'gamma-spectroscopy', 'geology', 'mineral-deposits', 'sedimentary-basins', 'metallogenesis', 'mineragraphy', 'petrography', 'mineral-exploration', 'hydrogeology', 'petroleum-exploration', 'landslides', 'geochemistry', 'petrology', 'marine-survey', 'economic-geology', 'petroleum-geology', 'cartography', 'petroleum-reserves', 'remote-sensing', 'structural-geology', 'continental-margins', 'geochronology', 'bathymetry', 'palaeogeography', 'geoscience-databases', 'data-standards', 'gis', 'landforms', 'regolith', 'metamorphism', 'image-processing', 'satellite-imagery', 'palaeomagnetism', 'geoscience-education', 'tsunamis', 'seismology', 'information-management', 'marine-jurisdiction', 'coasts', 'geomorphology', 'resource-management', 'mineralogy', 'sequence-stratigraphy', 'seismic-sections', 'mapping', 'administrative-boundaries', 'boundaries', 'dataset', 'national-dataset', 'topography', 'water-resources', 'hydrocarbons', 'aem', 'dating', 'educational-product', 'environmental', 'carbon-dioxide', 'co2-capture', 'geological-sequestration', 'geological-storage-of-co2', 'risk-assessment', 'carbonate', 'geodesy', 'geodynamics', 'model', 'resource-assessment', 'pmd*crc', 'tourism', 'geothermal', 'marine-zone', 'commodities', 'culture', '3d-model', 'geohazards', 'geoscience', 'numerical-modelling', 'airborne-electromagnetics', 'land-cover', 'magneto-tellurics', 'soils', 'atmosphere', 'abiotic-surrogates', 'seismic-velocity', 'seabed', 'minerals', 'energy-infrastructure', 'risk-analysis', 'transport', 'infrastructure']\n",
            "124\n"
          ]
        }
      ]
    },
    {
      "cell_type": "code",
      "metadata": {
        "id": "gxKEedyO0OY8"
      },
      "source": [
        "embedding_clusters, classifier_clusters, new_classifier = embedding_word_clusters(model, unique_gaThemes[:10], 10)"
      ],
      "execution_count": 12,
      "outputs": []
    },
    {
      "cell_type": "code",
      "metadata": {
        "colab": {
          "base_uri": "https://localhost:8080/"
        },
        "id": "_Urtz-DX0mS8",
        "outputId": "00a76795-e278-41fb-8c56-9ca4a909a3a1"
      },
      "source": [
        "print(classifier_clusters)"
      ],
      "execution_count": 13,
      "outputs": [
        {
          "output_type": "stream",
          "name": "stdout",
          "text": [
            "[['paleontology', 'paleontological', 'palaeontologists', 'paleoanthropology', 'palaeontologist', 'palaeontological', 'archeology', 'archaeo', 'paleobiology', 'paleontologist'], ['geophysical', 'geophysical_surveys', 'geophysical_survey', 'geological_mapping', 'geochemistry', 'geologic_mapping', 'geochemical', 'Geophysics', 'airborne_geophysics', 'detailed_geological_mapping'], ['volcanics', 'volcanic_stratigraphy', 'lithologies', 'shear_zone', 'stratigraphic', 'gold_mineralization', 'intrusive_rocks', 'intrusives', 'auriferous', 'meta_sediments'], ['quakes', 'temblors', 'earthquake', 'temblor', 'quake', '#.#_magnitude_earthquake', 'tsunamis', 'quakes_measuring', 'seismic_activity', 'aftershocks'], ['Michael_Studinger', 'Cosmic_Background_Explorer_COBE', 'polarimetric', 'Anisotropy_Probe', 'glaciological', 'exoplanetary', 'radar_interferometry', 'meteorological_oceanographic', 'atmospheric_oceanic', 'SeaWiFS'], ['4D_seismic', '3D_seismic_surveys', 'Induced_Polarisation', 'magnetic_geophysical_surveys', '2D_seismic_surveys', '2D_seismic_data', 'dimensional_seismic', '2D_seismic_survey', 'Triassic_reservoirs', 'resistivity_surveying'], ['vulcanology', 'seismology', 'vulcanologist', 'Syamsu_Rizal', 'volcano_observatory', 'volcanology_institute', 'Volcanology', 'Agus_Budianto', 'volcanologist', 'Umar_Rosadi'], ['aquifer', 'aquifers', 'Groundwater', 'shallow_aquifer', 'underground_aquifer', 'underground_aquifers', 'groundwater_aquifers', 'groundwater_aquifer', 'shallow_aquifers', 'Aquifer'], ['gravitational', 'gravitational_pull', 'Hejlik_MRAP_request', 'angular_momentum', 'gravitation', 'rotational_axis', 'gravitational_acceleration', 'gravitational_pulls', 'centrifugal_force', 'gravitational_attraction'], ['Marine', 'maritime', 'marine_mammal', 'fisheries', 'WolfCamera.com', 'coral_reef', 'vessel_groundings', 'marine_mammals', 'marine_ecology', 'seafloor_habitats']]\n"
          ]
        }
      ]
    },
    {
      "cell_type": "code",
      "metadata": {
        "colab": {
          "base_uri": "https://localhost:8080/"
        },
        "id": "YDcI4PpZ0qjN",
        "outputId": "7b8a9072-015f-45ff-b39a-16703967f964"
      },
      "source": [
        "print(new_classifier)"
      ],
      "execution_count": 14,
      "outputs": [
        {
          "output_type": "stream",
          "name": "stdout",
          "text": [
            "['palaeontology', 'geophysics', 'stratigraphy', 'earthquakes', 'geomagnetism', 'seismics', 'volcanology', 'groundwater', 'gravity', 'marine']\n"
          ]
        }
      ]
    },
    {
      "cell_type": "code",
      "metadata": {
        "colab": {
          "base_uri": "https://localhost:8080/"
        },
        "id": "5qjMUxz-0xH9",
        "outputId": "15dbf97f-96e3-4285-a1c8-23552ccfa316"
      },
      "source": [
        "print(classifier_clusters[:2])"
      ],
      "execution_count": 15,
      "outputs": [
        {
          "output_type": "stream",
          "name": "stdout",
          "text": [
            "[['paleontology', 'paleontological', 'palaeontologists', 'paleoanthropology', 'palaeontologist', 'palaeontological', 'archeology', 'archaeo', 'paleobiology', 'paleontologist'], ['geophysical', 'geophysical_surveys', 'geophysical_survey', 'geological_mapping', 'geochemistry', 'geologic_mapping', 'geochemical', 'Geophysics', 'airborne_geophysics', 'detailed_geological_mapping']]\n"
          ]
        }
      ]
    },
    {
      "cell_type": "code",
      "metadata": {
        "colab": {
          "base_uri": "https://localhost:8080/"
        },
        "id": "qGK6lKsk1as0",
        "outputId": "9430e61a-45eb-450e-f3a4-0661fd6b37d5"
      },
      "source": [
        "print(new_classifier[:2])"
      ],
      "execution_count": 16,
      "outputs": [
        {
          "output_type": "stream",
          "name": "stdout",
          "text": [
            "['palaeontology', 'geophysics']\n"
          ]
        }
      ]
    },
    {
      "cell_type": "code",
      "metadata": {
        "id": "Pq7CXcSZ1rT8"
      },
      "source": [
        ""
      ],
      "execution_count": null,
      "outputs": []
    }
  ]
}