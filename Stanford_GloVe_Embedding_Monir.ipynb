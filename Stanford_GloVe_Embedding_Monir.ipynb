{
  "nbformat": 4,
  "nbformat_minor": 0,
  "metadata": {
    "colab": {
      "name": " Stanford GloVe Embedding_Monir.ipynb",
      "provenance": [],
      "authorship_tag": "ABX9TyNyxW/vJvYMJ/BZ+lfh0Uef",
      "include_colab_link": true
    },
    "kernelspec": {
      "name": "python3",
      "display_name": "Python 3"
    },
    "language_info": {
      "name": "python"
    }
  },
  "cells": [
    {
      "cell_type": "markdown",
      "metadata": {
        "id": "view-in-github",
        "colab_type": "text"
      },
      "source": [
        "<a href=\"https://colab.research.google.com/github/mzkhan2000/KG-Embeddings/blob/main/Stanford_GloVe_Embedding_Monir.ipynb\" target=\"_parent\"><img src=\"https://colab.research.google.com/assets/colab-badge.svg\" alt=\"Open In Colab\"/></a>"
      ]
    },
    {
      "cell_type": "code",
      "metadata": {
        "id": "sHcuJM9DOs0S"
      },
      "source": [
        "### Load Stanford GloVe Embedding_Monir"
      ],
      "execution_count": 1,
      "outputs": []
    },
    {
      "cell_type": "code",
      "metadata": {
        "colab": {
          "base_uri": "https://localhost:8080/"
        },
        "id": "3h4nLG70PMAo",
        "outputId": "2ae6494d-1c1e-41d0-8014-f5c9f36b569a"
      },
      "source": [
        "pip install --upgrade gensim"
      ],
      "execution_count": 2,
      "outputs": [
        {
          "output_type": "stream",
          "text": [
            "Collecting gensim\n",
            "\u001b[?25l  Downloading https://files.pythonhosted.org/packages/44/52/f1417772965652d4ca6f901515debcd9d6c5430969e8c02ee7737e6de61c/gensim-4.0.1-cp37-cp37m-manylinux1_x86_64.whl (23.9MB)\n",
            "\u001b[K     |████████████████████████████████| 23.9MB 130kB/s \n",
            "\u001b[?25hRequirement already satisfied, skipping upgrade: smart-open>=1.8.1 in /usr/local/lib/python3.7/dist-packages (from gensim) (5.1.0)\n",
            "Requirement already satisfied, skipping upgrade: numpy>=1.11.3 in /usr/local/lib/python3.7/dist-packages (from gensim) (1.19.5)\n",
            "Requirement already satisfied, skipping upgrade: scipy>=0.18.1 in /usr/local/lib/python3.7/dist-packages (from gensim) (1.4.1)\n",
            "Installing collected packages: gensim\n",
            "  Found existing installation: gensim 3.6.0\n",
            "    Uninstalling gensim-3.6.0:\n",
            "      Successfully uninstalled gensim-3.6.0\n",
            "Successfully installed gensim-4.0.1\n"
          ],
          "name": "stdout"
        }
      ]
    },
    {
      "cell_type": "code",
      "metadata": {
        "id": "eckVKYL5PMpd"
      },
      "source": [
        "# Python program to generate word vectors using Word2Vec\n",
        "\n",
        "# importing all necessary modules\n",
        "from nltk.tokenize import sent_tokenize, word_tokenize\n",
        "import warnings\n",
        "\n",
        "warnings.filterwarnings(action = 'ignore')\n",
        "\n",
        "import gensim\n",
        "from gensim.models import Word2Vec"
      ],
      "execution_count": 3,
      "outputs": []
    },
    {
      "cell_type": "code",
      "metadata": {
        "colab": {
          "base_uri": "https://localhost:8080/"
        },
        "id": "PJR7YNXSPQ5k",
        "outputId": "faca6a36-40f1-4b39-926c-720848828399"
      },
      "source": [
        "import numpy \n",
        "import nltk\n",
        "nltk.download('punkt')"
      ],
      "execution_count": 4,
      "outputs": [
        {
          "output_type": "stream",
          "text": [
            "[nltk_data] Downloading package punkt to /root/nltk_data...\n",
            "[nltk_data]   Unzipping tokenizers/punkt.zip.\n"
          ],
          "name": "stdout"
        },
        {
          "output_type": "execute_result",
          "data": {
            "text/plain": [
              "True"
            ]
          },
          "metadata": {
            "tags": []
          },
          "execution_count": 4
        }
      ]
    },
    {
      "cell_type": "code",
      "metadata": {
        "id": "UchNNj3xPcoM"
      },
      "source": [
        "from gensim.models import KeyedVectors"
      ],
      "execution_count": 5,
      "outputs": []
    },
    {
      "cell_type": "code",
      "metadata": {
        "id": "boZY4uKxPi48"
      },
      "source": [
        "from gensim.scripts.glove2word2vec import glove2word2vec"
      ],
      "execution_count": 6,
      "outputs": []
    },
    {
      "cell_type": "code",
      "metadata": {
        "id": "LtgpJ5ZMPpqr"
      },
      "source": [
        "from google.colab import drive"
      ],
      "execution_count": 7,
      "outputs": []
    },
    {
      "cell_type": "code",
      "metadata": {
        "colab": {
          "base_uri": "https://localhost:8080/"
        },
        "id": "E4v32bImQY-a",
        "outputId": "be0f5f86-78bc-4a03-be3f-4672bc58ea54"
      },
      "source": [
        "from google.colab import drive\n",
        "drive.mount('/content/drive')"
      ],
      "execution_count": 9,
      "outputs": [
        {
          "output_type": "stream",
          "text": [
            "Mounted at /content/drive\n"
          ],
          "name": "stdout"
        }
      ]
    },
    {
      "cell_type": "code",
      "metadata": {
        "colab": {
          "base_uri": "https://localhost:8080/"
        },
        "id": "UGjtDYFdSsCi",
        "outputId": "4e178e89-bc8f-4a02-ab5d-1e292cf73f1b"
      },
      "source": [
        "!ls \"/content/drive/My Drive/MonirResearchDatasets\""
      ],
      "execution_count": 12,
      "outputs": [
        {
          "output_type": "stream",
          "text": [
            " freebase-vectors-skipgram1000-en.bin  'glove.6B (1)'\n"
          ],
          "name": "stdout"
        }
      ]
    },
    {
      "cell_type": "code",
      "metadata": {
        "id": "RdxOg_ibTpR9"
      },
      "source": [
        "filename = \"/content/drive/My Drive/MonirResearchDatasets/freebase-vectors-skipgram1000-en.bin\""
      ],
      "execution_count": 13,
      "outputs": []
    },
    {
      "cell_type": "code",
      "metadata": {
        "id": "RrVICj02T6Ul"
      },
      "source": [
        "model = KeyedVectors.load_word2vec_format(filename, binary=True)"
      ],
      "execution_count": 14,
      "outputs": []
    },
    {
      "cell_type": "code",
      "metadata": {
        "colab": {
          "base_uri": "https://localhost:8080/"
        },
        "id": "4jKg5TmpT-Rk",
        "outputId": "5b7bba57-65ef-43f9-c831-850b4ba491b2"
      },
      "source": [
        "!ls \"/content/drive/My Drive/MonirResearchDatasets/Glove-6B\"\n"
      ],
      "execution_count": 24,
      "outputs": [
        {
          "output_type": "stream",
          "text": [
            "'Copy of glove.6B.50d.txt'   glove.6B.200d.txt\t glove.6B.50d.txt\n",
            " glove.6B.100d.txt\t     glove.6B.300d.txt\n"
          ],
          "name": "stdout"
        }
      ]
    },
    {
      "cell_type": "code",
      "metadata": {
        "colab": {
          "base_uri": "https://localhost:8080/"
        },
        "id": "5iROf-22VSri",
        "outputId": "3f552da3-7d48-4ea1-bf1d-fb33f5648d5c"
      },
      "source": [
        "from gensim.scripts.glove2word2vec import glove2word2vec\n",
        "glove_input_file = '/content/drive/My Drive/MonirResearchDatasets/Glove-6B/glove.6B.100d.txt'\n",
        "word2vec_output_file = '/content/drive/My Drive/MonirResearchDatasets/Glove-6B/glove.6B.100d.txt.word2vec'\n",
        "glove2word2vec(glove_input_file, word2vec_output_file)"
      ],
      "execution_count": 25,
      "outputs": [
        {
          "output_type": "execute_result",
          "data": {
            "text/plain": [
              "(400000, 100)"
            ]
          },
          "metadata": {
            "tags": []
          },
          "execution_count": 25
        }
      ]
    },
    {
      "cell_type": "code",
      "metadata": {
        "id": "BOHAkSDQY6uc"
      },
      "source": [
        "from gensim.models import KeyedVectors\n",
        "# load the Stanford GloVe model\n",
        "filename = '/content/drive/My Drive/MonirResearchDatasets/Glove-6B/glove.6B.100d.txt.word2vec'\n",
        "model = KeyedVectors.load_word2vec_format(filename, binary=False)"
      ],
      "execution_count": 26,
      "outputs": []
    },
    {
      "cell_type": "code",
      "metadata": {
        "colab": {
          "base_uri": "https://localhost:8080/"
        },
        "id": "mlAJOeIGZyRZ",
        "outputId": "9ebc8800-622e-486a-ccbd-4ce9c2db59de"
      },
      "source": [
        "gravity10 = model.most_similar('gravity', topn=10)\n",
        "print(gravity10)"
      ],
      "execution_count": 28,
      "outputs": [
        {
          "output_type": "stream",
          "text": [
            "[('gravitational', 0.7087547183036804), ('quantum', 0.682186484336853), ('cosmic', 0.6506437659263611), ('earth', 0.6482942700386047), ('measurements', 0.6432933807373047), ('particle', 0.6299072504043579), ('velocity', 0.6290275454521179), ('magnetic', 0.6241236925125122), ('theory', 0.6203150749206543), ('surface', 0.5997207760810852)]\n"
          ],
          "name": "stdout"
        }
      ]
    },
    {
      "cell_type": "code",
      "metadata": {
        "colab": {
          "base_uri": "https://localhost:8080/"
        },
        "id": "XdLb_XEvaA8J",
        "outputId": "ae33171a-8b24-4116-bbcd-4520d9d8e367"
      },
      "source": [
        "earthquakes10 = model.most_similar('earthquakes', topn=20)\n",
        "print(earthquakes10)"
      ],
      "execution_count": 29,
      "outputs": [
        {
          "output_type": "stream",
          "text": [
            "[('quakes', 0.9051985144615173), ('eruptions', 0.7356242537498474), ('earthquake', 0.7257689237594604), ('aftershocks', 0.7140659689903259), ('tsunamis', 0.7134846448898315), ('tremors', 0.708500325679779), ('typhoons', 0.7049413323402405), ('storms', 0.6794184446334839), ('temblors', 0.6687438488006592), ('magnitude', 0.6603460907936096), ('disasters', 0.6601459980010986), ('temblor', 0.660134494304657), ('volcanoes', 0.6596624851226807), ('cyclones', 0.6521583795547485), ('quake', 0.6450574994087219), ('floods', 0.6410703063011169), ('hurricanes', 0.6390317678451538), ('seismic', 0.6306996941566467), ('tornadoes', 0.6263212561607361), ('droughts', 0.6170334815979004)]\n"
          ],
          "name": "stdout"
        }
      ]
    },
    {
      "cell_type": "code",
      "metadata": {
        "colab": {
          "base_uri": "https://localhost:8080/"
        },
        "id": "VBh6eH3XaTGH",
        "outputId": "4d421698-6480-4384-98b0-21d06486bd64"
      },
      "source": [
        "volcanology20 = model.most_similar('volcanology', topn=20)\n",
        "print(volcanology20)"
      ],
      "execution_count": 31,
      "outputs": [
        {
          "output_type": "stream",
          "text": [
            "[('seismology', 0.8169593811035156), ('geophysics', 0.6703683137893677), ('vulcanology', 0.6640471816062927), ('phivolcs', 0.6188452839851379), ('meteorology', 0.6002569794654846), ('seismological', 0.5463812351226807), ('climatology', 0.5395990014076233), ('kandilli', 0.5237540006637573), ('meteorological', 0.5066868662834167), ('seismologist', 0.49526211619377136), ('moc', 0.4907539188861847), ('niosh', 0.4906923472881317), ('neurosciences', 0.48028430342674255), ('gns', 0.4758787751197815), ('waqf', 0.47561755776405334), ('centaline', 0.474727988243103), ('hydrometeorology', 0.46823713183403015), ('oceanology', 0.4605597257614136), ('archeology', 0.4570297300815582), ('isae', 0.45241302251815796)]\n"
          ],
          "name": "stdout"
        }
      ]
    },
    {
      "cell_type": "code",
      "metadata": {
        "id": "7l7tMfx8acf_"
      },
      "source": [
        ""
      ],
      "execution_count": null,
      "outputs": []
    }
  ]
}